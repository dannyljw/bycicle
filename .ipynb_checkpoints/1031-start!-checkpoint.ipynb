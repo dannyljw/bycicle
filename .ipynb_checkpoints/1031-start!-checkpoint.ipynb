{
 "cells": [
  {
   "cell_type": "code",
   "execution_count": 3,
   "id": "7839fd74",
   "metadata": {
    "ExecuteTime": {
     "end_time": "2021-10-31T14:36:30.142447Z",
     "start_time": "2021-10-31T14:36:29.532729Z"
    }
   },
   "outputs": [],
   "source": [
    "import pandas as pd\n",
    "import numpy as np\n",
    "import matplotlib.pyplot as plt\n",
    "import seaborn as sns\n",
    "import xgboost\n",
    "import warnings\n",
    "warnings.filterwarnings(action='ignore')"
   ]
  },
  {
   "cell_type": "code",
   "execution_count": 4,
   "id": "1ab54529",
   "metadata": {
    "ExecuteTime": {
     "end_time": "2021-10-31T14:36:32.331688Z",
     "start_time": "2021-10-31T14:36:32.327115Z"
    },
    "scrolled": true
   },
   "outputs": [
    {
     "data": {
      "text/plain": [
       "'/Users/hhi/New_Programming/dacon/bycicle'"
      ]
     },
     "execution_count": 4,
     "metadata": {},
     "output_type": "execute_result"
    }
   ],
   "source": [
    "%pwd"
   ]
  },
  {
   "cell_type": "markdown",
   "id": "c1c45152",
   "metadata": {},
   "source": [
    "# 데이터 받기 전 생각\n",
    "\n",
    "데이터에는, 일별 온도, 습도, 강수량 등 일기 예보 데이터를 통해서 따릉이 대여량을 예측하는 것이다. \n",
    "(날짜(일), 풍향, 하늘 상태, 강수 형태, 풍속, 습도, 최저 기온, 최고 기온, 강수 확률,)(따릉이 대여량) \n",
    "\n",
    "\n",
    "- 내 생각에는, 다양한 데이터를 통해서 새로운 칼럼을 생성해서 학습을 시켜야된다고 생각이 듦. \n",
    "예를들면, 최고 기온과 최저 기온을 생각해보자면, 사람들이 따릉이를 대여하는 시간 자체는 낮시간일 것으로 유추가 됨. -> 평균 기온을 통해서 어떻게 하면 되지 않을까 생각이 드는데.... 정확하게는 모르겠지만 대충 그런 생각이 듦. \n",
    "\n",
    "- 비오는 날\n",
    "비오는 날에는 아무래도 대여를 많이 안하겠지뭐... 강수 형태가 중요하다고 생각이 든다. 강수형태가 어떻게 되어있는지에 따라서... 대여 량도 많이 변할거 같은데. \n",
    "\n",
    "- 공휴일\n",
    "공휴일에 따릉이를 타는 사람이 많아 질 것으로 예상이 된다. 주말에도 많아 질 것 같은데, 이건 아마도... 반복되는 패턴이 있기 때문에 알아서 패턴을 이해하지 않을까 싶음. \n",
    "\n"
   ]
  },
  {
   "cell_type": "markdown",
   "id": "5b1ab587",
   "metadata": {},
   "source": [
    "# 기상 데이터는 하루에 총 8번, 3시간 간격으로 발표되는 기상 단기 예보 데이터를 1 일 평규능로 변환한 데이터 입니다. \n",
    "\n",
    "## sky_condition : 하늘 상태, \n",
    "### 1 : 맑음 3 : 구름 많음, 4: 흐림\n",
    "\n",
    "\n",
    "## precipitation_form : 강수 형태, \n",
    "### 0 : 없음, 1.  비, 2 : 진눈깨비, 3 : 눈, 4 : 소나기\n",
    "ex) 0.5 인 경우, 하루의 절반은 비가 올 것으로 예측하고, 나머지 절반은 맑을 것으로 예측했다. 라는 의미로 해석하면됨. "
   ]
  },
  {
   "cell_type": "code",
   "execution_count": 5,
   "id": "f3df53a5",
   "metadata": {
    "ExecuteTime": {
     "end_time": "2021-11-01T07:29:24.479605Z",
     "start_time": "2021-11-01T07:29:24.444317Z"
    }
   },
   "outputs": [],
   "source": [
    "test = pd.read_csv('test.csv')\n",
    "train = pd.read_csv('train.csv')\n",
    "sub = pd.read_csv('sample_submission.csv')\n",
    "# train.drop(['id'], axis = 1, inplace = True)"
   ]
  },
  {
   "cell_type": "markdown",
   "id": "1bf36061",
   "metadata": {},
   "source": [
    "# test data set : 2021-04-01 ~ 2021-06-30"
   ]
  },
  {
   "cell_type": "code",
   "execution_count": 11,
   "id": "df0d6c5d",
   "metadata": {
    "ExecuteTime": {
     "end_time": "2021-11-01T08:01:33.387693Z",
     "start_time": "2021-11-01T08:01:33.374494Z"
    }
   },
   "outputs": [
    {
     "data": {
      "text/html": [
       "<div>\n",
       "<style scoped>\n",
       "    .dataframe tbody tr th:only-of-type {\n",
       "        vertical-align: middle;\n",
       "    }\n",
       "\n",
       "    .dataframe tbody tr th {\n",
       "        vertical-align: top;\n",
       "    }\n",
       "\n",
       "    .dataframe thead th {\n",
       "        text-align: right;\n",
       "    }\n",
       "</style>\n",
       "<table border=\"1\" class=\"dataframe\">\n",
       "  <thead>\n",
       "    <tr style=\"text-align: right;\">\n",
       "      <th></th>\n",
       "      <th>date_time</th>\n",
       "      <th>wind_direction</th>\n",
       "      <th>sky_condition</th>\n",
       "      <th>precipitation_form</th>\n",
       "      <th>wind_speed</th>\n",
       "      <th>humidity</th>\n",
       "      <th>low_temp</th>\n",
       "      <th>high_temp</th>\n",
       "      <th>Precipitation_Probability</th>\n",
       "    </tr>\n",
       "  </thead>\n",
       "  <tbody>\n",
       "    <tr>\n",
       "      <th>0</th>\n",
       "      <td>2021-04-01</td>\n",
       "      <td>108.833</td>\n",
       "      <td>3.000</td>\n",
       "      <td>0.000</td>\n",
       "      <td>2.900</td>\n",
       "      <td>28.333</td>\n",
       "      <td>11.800</td>\n",
       "      <td>20.667</td>\n",
       "      <td>18.333</td>\n",
       "    </tr>\n",
       "    <tr>\n",
       "      <th>1</th>\n",
       "      <td>2021-04-02</td>\n",
       "      <td>116.717</td>\n",
       "      <td>3.850</td>\n",
       "      <td>0.000</td>\n",
       "      <td>2.662</td>\n",
       "      <td>46.417</td>\n",
       "      <td>12.000</td>\n",
       "      <td>19.000</td>\n",
       "      <td>28.500</td>\n",
       "    </tr>\n",
       "    <tr>\n",
       "      <th>2</th>\n",
       "      <td>2021-04-03</td>\n",
       "      <td>82.669</td>\n",
       "      <td>4.000</td>\n",
       "      <td>0.565</td>\n",
       "      <td>2.165</td>\n",
       "      <td>77.258</td>\n",
       "      <td>8.875</td>\n",
       "      <td>16.368</td>\n",
       "      <td>52.847</td>\n",
       "    </tr>\n",
       "    <tr>\n",
       "      <th>3</th>\n",
       "      <td>2021-04-04</td>\n",
       "      <td>44.123</td>\n",
       "      <td>3.466</td>\n",
       "      <td>0.466</td>\n",
       "      <td>3.747</td>\n",
       "      <td>63.288</td>\n",
       "      <td>6.250</td>\n",
       "      <td>17.368</td>\n",
       "      <td>37.671</td>\n",
       "    </tr>\n",
       "    <tr>\n",
       "      <th>4</th>\n",
       "      <td>2021-04-05</td>\n",
       "      <td>147.791</td>\n",
       "      <td>1.500</td>\n",
       "      <td>0.000</td>\n",
       "      <td>1.560</td>\n",
       "      <td>48.176</td>\n",
       "      <td>7.188</td>\n",
       "      <td>18.684</td>\n",
       "      <td>4.459</td>\n",
       "    </tr>\n",
       "  </tbody>\n",
       "</table>\n",
       "</div>"
      ],
      "text/plain": [
       "    date_time  wind_direction  sky_condition  precipitation_form  wind_speed  \\\n",
       "0  2021-04-01         108.833          3.000               0.000       2.900   \n",
       "1  2021-04-02         116.717          3.850               0.000       2.662   \n",
       "2  2021-04-03          82.669          4.000               0.565       2.165   \n",
       "3  2021-04-04          44.123          3.466               0.466       3.747   \n",
       "4  2021-04-05         147.791          1.500               0.000       1.560   \n",
       "\n",
       "   humidity  low_temp  high_temp  Precipitation_Probability  \n",
       "0    28.333    11.800     20.667                     18.333  \n",
       "1    46.417    12.000     19.000                     28.500  \n",
       "2    77.258     8.875     16.368                     52.847  \n",
       "3    63.288     6.250     17.368                     37.671  \n",
       "4    48.176     7.188     18.684                      4.459  "
      ]
     },
     "execution_count": 11,
     "metadata": {},
     "output_type": "execute_result"
    }
   ],
   "source": [
    "test.head()"
   ]
  },
  {
   "cell_type": "markdown",
   "id": "d974351c",
   "metadata": {},
   "source": [
    "# train data set : 2018-04-01 ~ 2020-06-30"
   ]
  },
  {
   "cell_type": "code",
   "execution_count": 7,
   "id": "a4d35bcd",
   "metadata": {
    "ExecuteTime": {
     "end_time": "2021-11-01T07:29:39.888555Z",
     "start_time": "2021-11-01T07:29:39.874736Z"
    },
    "scrolled": true
   },
   "outputs": [
    {
     "data": {
      "text/html": [
       "<div>\n",
       "<style scoped>\n",
       "    .dataframe tbody tr th:only-of-type {\n",
       "        vertical-align: middle;\n",
       "    }\n",
       "\n",
       "    .dataframe tbody tr th {\n",
       "        vertical-align: top;\n",
       "    }\n",
       "\n",
       "    .dataframe thead th {\n",
       "        text-align: right;\n",
       "    }\n",
       "</style>\n",
       "<table border=\"1\" class=\"dataframe\">\n",
       "  <thead>\n",
       "    <tr style=\"text-align: right;\">\n",
       "      <th></th>\n",
       "      <th>date_time</th>\n",
       "      <th>wind_direction</th>\n",
       "      <th>sky_condition</th>\n",
       "      <th>precipitation_form</th>\n",
       "      <th>wind_speed</th>\n",
       "      <th>humidity</th>\n",
       "      <th>low_temp</th>\n",
       "      <th>high_temp</th>\n",
       "      <th>Precipitation_Probability</th>\n",
       "      <th>number_of_rentals</th>\n",
       "    </tr>\n",
       "  </thead>\n",
       "  <tbody>\n",
       "    <tr>\n",
       "      <th>0</th>\n",
       "      <td>2018-04-01</td>\n",
       "      <td>207.500</td>\n",
       "      <td>4.000</td>\n",
       "      <td>0.000</td>\n",
       "      <td>3.050</td>\n",
       "      <td>75.000</td>\n",
       "      <td>12.600</td>\n",
       "      <td>21.000</td>\n",
       "      <td>30.000</td>\n",
       "      <td>22994</td>\n",
       "    </tr>\n",
       "    <tr>\n",
       "      <th>1</th>\n",
       "      <td>2018-04-02</td>\n",
       "      <td>208.317</td>\n",
       "      <td>2.950</td>\n",
       "      <td>0.000</td>\n",
       "      <td>3.278</td>\n",
       "      <td>69.833</td>\n",
       "      <td>12.812</td>\n",
       "      <td>19.000</td>\n",
       "      <td>19.500</td>\n",
       "      <td>28139</td>\n",
       "    </tr>\n",
       "    <tr>\n",
       "      <th>2</th>\n",
       "      <td>2018-04-03</td>\n",
       "      <td>213.516</td>\n",
       "      <td>2.911</td>\n",
       "      <td>0.000</td>\n",
       "      <td>2.690</td>\n",
       "      <td>74.879</td>\n",
       "      <td>10.312</td>\n",
       "      <td>15.316</td>\n",
       "      <td>19.113</td>\n",
       "      <td>26817</td>\n",
       "    </tr>\n",
       "    <tr>\n",
       "      <th>3</th>\n",
       "      <td>2018-04-04</td>\n",
       "      <td>143.836</td>\n",
       "      <td>3.692</td>\n",
       "      <td>0.425</td>\n",
       "      <td>3.138</td>\n",
       "      <td>71.849</td>\n",
       "      <td>8.312</td>\n",
       "      <td>12.368</td>\n",
       "      <td>43.493</td>\n",
       "      <td>26034</td>\n",
       "    </tr>\n",
       "    <tr>\n",
       "      <th>4</th>\n",
       "      <td>2018-04-05</td>\n",
       "      <td>95.905</td>\n",
       "      <td>4.000</td>\n",
       "      <td>0.723</td>\n",
       "      <td>3.186</td>\n",
       "      <td>73.784</td>\n",
       "      <td>5.875</td>\n",
       "      <td>10.421</td>\n",
       "      <td>63.378</td>\n",
       "      <td>2833</td>\n",
       "    </tr>\n",
       "  </tbody>\n",
       "</table>\n",
       "</div>"
      ],
      "text/plain": [
       "    date_time  wind_direction  sky_condition  precipitation_form  wind_speed  \\\n",
       "0  2018-04-01         207.500          4.000               0.000       3.050   \n",
       "1  2018-04-02         208.317          2.950               0.000       3.278   \n",
       "2  2018-04-03         213.516          2.911               0.000       2.690   \n",
       "3  2018-04-04         143.836          3.692               0.425       3.138   \n",
       "4  2018-04-05          95.905          4.000               0.723       3.186   \n",
       "\n",
       "   humidity  low_temp  high_temp  Precipitation_Probability  number_of_rentals  \n",
       "0    75.000    12.600     21.000                     30.000              22994  \n",
       "1    69.833    12.812     19.000                     19.500              28139  \n",
       "2    74.879    10.312     15.316                     19.113              26817  \n",
       "3    71.849     8.312     12.368                     43.493              26034  \n",
       "4    73.784     5.875     10.421                     63.378               2833  "
      ]
     },
     "execution_count": 7,
     "metadata": {},
     "output_type": "execute_result"
    }
   ],
   "source": [
    "train.head()"
   ]
  },
  {
   "cell_type": "code",
   "execution_count": 8,
   "id": "25cdac71",
   "metadata": {
    "ExecuteTime": {
     "end_time": "2021-11-01T07:29:46.716588Z",
     "start_time": "2021-11-01T07:29:46.709720Z"
    }
   },
   "outputs": [
    {
     "data": {
      "text/html": [
       "<div>\n",
       "<style scoped>\n",
       "    .dataframe tbody tr th:only-of-type {\n",
       "        vertical-align: middle;\n",
       "    }\n",
       "\n",
       "    .dataframe tbody tr th {\n",
       "        vertical-align: top;\n",
       "    }\n",
       "\n",
       "    .dataframe thead th {\n",
       "        text-align: right;\n",
       "    }\n",
       "</style>\n",
       "<table border=\"1\" class=\"dataframe\">\n",
       "  <thead>\n",
       "    <tr style=\"text-align: right;\">\n",
       "      <th></th>\n",
       "      <th>date_time</th>\n",
       "      <th>number_of_rentals</th>\n",
       "    </tr>\n",
       "  </thead>\n",
       "  <tbody>\n",
       "    <tr>\n",
       "      <th>0</th>\n",
       "      <td>2021-04-01</td>\n",
       "      <td>0</td>\n",
       "    </tr>\n",
       "    <tr>\n",
       "      <th>1</th>\n",
       "      <td>2021-04-02</td>\n",
       "      <td>0</td>\n",
       "    </tr>\n",
       "    <tr>\n",
       "      <th>2</th>\n",
       "      <td>2021-04-03</td>\n",
       "      <td>0</td>\n",
       "    </tr>\n",
       "    <tr>\n",
       "      <th>3</th>\n",
       "      <td>2021-04-04</td>\n",
       "      <td>0</td>\n",
       "    </tr>\n",
       "    <tr>\n",
       "      <th>4</th>\n",
       "      <td>2021-04-05</td>\n",
       "      <td>0</td>\n",
       "    </tr>\n",
       "  </tbody>\n",
       "</table>\n",
       "</div>"
      ],
      "text/plain": [
       "    date_time  number_of_rentals\n",
       "0  2021-04-01                  0\n",
       "1  2021-04-02                  0\n",
       "2  2021-04-03                  0\n",
       "3  2021-04-04                  0\n",
       "4  2021-04-05                  0"
      ]
     },
     "execution_count": 8,
     "metadata": {},
     "output_type": "execute_result"
    }
   ],
   "source": [
    "sub.head()"
   ]
  },
  {
   "cell_type": "code",
   "execution_count": 15,
   "id": "0c04bb64",
   "metadata": {
    "ExecuteTime": {
     "end_time": "2021-11-01T08:05:08.110314Z",
     "start_time": "2021-11-01T08:05:08.078830Z"
    }
   },
   "outputs": [
    {
     "data": {
      "text/html": [
       "<div>\n",
       "<style scoped>\n",
       "    .dataframe tbody tr th:only-of-type {\n",
       "        vertical-align: middle;\n",
       "    }\n",
       "\n",
       "    .dataframe tbody tr th {\n",
       "        vertical-align: top;\n",
       "    }\n",
       "\n",
       "    .dataframe thead th {\n",
       "        text-align: right;\n",
       "    }\n",
       "</style>\n",
       "<table border=\"1\" class=\"dataframe\">\n",
       "  <thead>\n",
       "    <tr style=\"text-align: right;\">\n",
       "      <th></th>\n",
       "      <th>wind_direction</th>\n",
       "      <th>sky_condition</th>\n",
       "      <th>precipitation_form</th>\n",
       "      <th>wind_speed</th>\n",
       "      <th>humidity</th>\n",
       "      <th>low_temp</th>\n",
       "      <th>high_temp</th>\n",
       "      <th>Precipitation_Probability</th>\n",
       "      <th>number_of_rentals</th>\n",
       "    </tr>\n",
       "  </thead>\n",
       "  <tbody>\n",
       "    <tr>\n",
       "      <th>count</th>\n",
       "      <td>273.000000</td>\n",
       "      <td>273.000000</td>\n",
       "      <td>273.000000</td>\n",
       "      <td>273.000000</td>\n",
       "      <td>273.000000</td>\n",
       "      <td>273.000000</td>\n",
       "      <td>273.000000</td>\n",
       "      <td>273.000000</td>\n",
       "      <td>273.000000</td>\n",
       "    </tr>\n",
       "    <tr>\n",
       "      <th>mean</th>\n",
       "      <td>202.750967</td>\n",
       "      <td>2.288256</td>\n",
       "      <td>0.100963</td>\n",
       "      <td>2.480963</td>\n",
       "      <td>56.745491</td>\n",
       "      <td>13.795249</td>\n",
       "      <td>23.384733</td>\n",
       "      <td>16.878103</td>\n",
       "      <td>59574.978022</td>\n",
       "    </tr>\n",
       "    <tr>\n",
       "      <th>std</th>\n",
       "      <td>56.659232</td>\n",
       "      <td>0.961775</td>\n",
       "      <td>0.203193</td>\n",
       "      <td>0.884397</td>\n",
       "      <td>12.351268</td>\n",
       "      <td>5.107711</td>\n",
       "      <td>5.204605</td>\n",
       "      <td>16.643772</td>\n",
       "      <td>27659.575774</td>\n",
       "    </tr>\n",
       "    <tr>\n",
       "      <th>min</th>\n",
       "      <td>57.047000</td>\n",
       "      <td>1.000000</td>\n",
       "      <td>0.000000</td>\n",
       "      <td>0.753000</td>\n",
       "      <td>24.831000</td>\n",
       "      <td>1.938000</td>\n",
       "      <td>9.895000</td>\n",
       "      <td>0.000000</td>\n",
       "      <td>1037.000000</td>\n",
       "    </tr>\n",
       "    <tr>\n",
       "      <th>25%</th>\n",
       "      <td>171.541000</td>\n",
       "      <td>1.405000</td>\n",
       "      <td>0.000000</td>\n",
       "      <td>1.820000</td>\n",
       "      <td>47.196000</td>\n",
       "      <td>9.938000</td>\n",
       "      <td>19.842000</td>\n",
       "      <td>4.054000</td>\n",
       "      <td>36761.000000</td>\n",
       "    </tr>\n",
       "    <tr>\n",
       "      <th>50%</th>\n",
       "      <td>209.774000</td>\n",
       "      <td>2.167000</td>\n",
       "      <td>0.000000</td>\n",
       "      <td>2.411000</td>\n",
       "      <td>55.845000</td>\n",
       "      <td>14.375000</td>\n",
       "      <td>24.158000</td>\n",
       "      <td>12.162000</td>\n",
       "      <td>63032.000000</td>\n",
       "    </tr>\n",
       "    <tr>\n",
       "      <th>75%</th>\n",
       "      <td>238.412000</td>\n",
       "      <td>3.000000</td>\n",
       "      <td>0.088000</td>\n",
       "      <td>2.924000</td>\n",
       "      <td>66.419000</td>\n",
       "      <td>18.000000</td>\n",
       "      <td>27.526000</td>\n",
       "      <td>22.973000</td>\n",
       "      <td>81515.000000</td>\n",
       "    </tr>\n",
       "    <tr>\n",
       "      <th>max</th>\n",
       "      <td>321.622000</td>\n",
       "      <td>4.000000</td>\n",
       "      <td>1.000000</td>\n",
       "      <td>5.607000</td>\n",
       "      <td>88.885000</td>\n",
       "      <td>22.312000</td>\n",
       "      <td>33.421000</td>\n",
       "      <td>82.162000</td>\n",
       "      <td>110377.000000</td>\n",
       "    </tr>\n",
       "  </tbody>\n",
       "</table>\n",
       "</div>"
      ],
      "text/plain": [
       "       wind_direction  sky_condition  precipitation_form  wind_speed  \\\n",
       "count      273.000000     273.000000          273.000000  273.000000   \n",
       "mean       202.750967       2.288256            0.100963    2.480963   \n",
       "std         56.659232       0.961775            0.203193    0.884397   \n",
       "min         57.047000       1.000000            0.000000    0.753000   \n",
       "25%        171.541000       1.405000            0.000000    1.820000   \n",
       "50%        209.774000       2.167000            0.000000    2.411000   \n",
       "75%        238.412000       3.000000            0.088000    2.924000   \n",
       "max        321.622000       4.000000            1.000000    5.607000   \n",
       "\n",
       "         humidity    low_temp   high_temp  Precipitation_Probability  \\\n",
       "count  273.000000  273.000000  273.000000                 273.000000   \n",
       "mean    56.745491   13.795249   23.384733                  16.878103   \n",
       "std     12.351268    5.107711    5.204605                  16.643772   \n",
       "min     24.831000    1.938000    9.895000                   0.000000   \n",
       "25%     47.196000    9.938000   19.842000                   4.054000   \n",
       "50%     55.845000   14.375000   24.158000                  12.162000   \n",
       "75%     66.419000   18.000000   27.526000                  22.973000   \n",
       "max     88.885000   22.312000   33.421000                  82.162000   \n",
       "\n",
       "       number_of_rentals  \n",
       "count         273.000000  \n",
       "mean        59574.978022  \n",
       "std         27659.575774  \n",
       "min          1037.000000  \n",
       "25%         36761.000000  \n",
       "50%         63032.000000  \n",
       "75%         81515.000000  \n",
       "max        110377.000000  "
      ]
     },
     "execution_count": 15,
     "metadata": {},
     "output_type": "execute_result"
    }
   ],
   "source": [
    "train.describe()"
   ]
  },
  {
   "cell_type": "markdown",
   "id": "a33cd17a",
   "metadata": {},
   "source": [
    "# EDA 를 해보자. "
   ]
  },
  {
   "cell_type": "markdown",
   "id": "1748ab86",
   "metadata": {},
   "source": [
    "## 공휴일을 생각해야됨을 계속해서 인지하고 있자! "
   ]
  },
  {
   "cell_type": "code",
   "execution_count": null,
   "id": "5bea6d3e",
   "metadata": {},
   "outputs": [],
   "source": []
  },
  {
   "cell_type": "code",
   "execution_count": null,
   "id": "faf25366",
   "metadata": {},
   "outputs": [],
   "source": []
  }
 ],
 "metadata": {
  "hide_input": false,
  "kernelspec": {
   "display_name": "Python 3 (ipykernel)",
   "language": "python",
   "name": "python3"
  },
  "language_info": {
   "codemirror_mode": {
    "name": "ipython",
    "version": 3
   },
   "file_extension": ".py",
   "mimetype": "text/x-python",
   "name": "python",
   "nbconvert_exporter": "python",
   "pygments_lexer": "ipython3",
   "version": "3.8.8"
  },
  "varInspector": {
   "cols": {
    "lenName": 16,
    "lenType": 16,
    "lenVar": 40
   },
   "kernels_config": {
    "python": {
     "delete_cmd_postfix": "",
     "delete_cmd_prefix": "del ",
     "library": "var_list.py",
     "varRefreshCmd": "print(var_dic_list())"
    },
    "r": {
     "delete_cmd_postfix": ") ",
     "delete_cmd_prefix": "rm(",
     "library": "var_list.r",
     "varRefreshCmd": "cat(var_dic_list()) "
    }
   },
   "types_to_exclude": [
    "module",
    "function",
    "builtin_function_or_method",
    "instance",
    "_Feature"
   ],
   "window_display": false
  }
 },
 "nbformat": 4,
 "nbformat_minor": 5
}
