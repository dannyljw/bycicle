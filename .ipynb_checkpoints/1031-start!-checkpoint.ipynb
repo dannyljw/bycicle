{
 "cells": [
  {
   "cell_type": "code",
   "execution_count": 3,
   "id": "c83965f0",
   "metadata": {
    "ExecuteTime": {
     "end_time": "2021-10-31T14:36:30.142447Z",
     "start_time": "2021-10-31T14:36:29.532729Z"
    }
   },
   "outputs": [],
   "source": [
    "import pandas as pd\n",
    "import numpy as np\n",
    "import matplotlib.pyplot as plt\n",
    "import seaborn as sns\n",
    "import xgboost\n",
    "import warnings\n",
    "warnings.filterwarnings(action='ignore')"
   ]
  },
  {
   "cell_type": "code",
   "execution_count": 4,
   "id": "3797918f",
   "metadata": {
    "ExecuteTime": {
     "end_time": "2021-10-31T14:36:32.331688Z",
     "start_time": "2021-10-31T14:36:32.327115Z"
    },
    "scrolled": true
   },
   "outputs": [
    {
     "data": {
      "text/plain": [
       "'/Users/hhi/New_Programming/dacon/bycicle'"
      ]
     },
     "execution_count": 4,
     "metadata": {},
     "output_type": "execute_result"
    }
   ],
   "source": [
    "%pwd"
   ]
  },
  {
   "cell_type": "markdown",
   "id": "5e23f20a",
   "metadata": {},
   "source": [
    "# 데이터 받기 전 생각\n",
    "\n",
    "데이터에는, 일별 온도, 습도, 강수량 등 일기 예보 데이터를 통해서 따릉이 대여량을 예측하는 것이다. \n",
    "(날짜(일), 풍향, 하늘 상태, 강수 형태, 풍속, 습도, 최저 기온, 최고 기온, 강수 확률,)(따릉이 대여량) \n",
    "\n",
    "\n",
    "- 내 생각에는, 다양한 데이터를 통해서 새로운 칼럼을 생성해서 학습을 시켜야된다고 생각이 듦. \n",
    "예를들면, 최고 기온과 최저 기온을 생각해보자면, 사람들이 따릉이를 대여하는 시간 자체는 낮시간일 것으로 유추가 됨. -> 평균 기온을 통해서 어떻게 하면 되지 않을까 생각이 드는데.... 정확하게는 모르겠지만 대충 그런 생각이 듦. \n",
    "\n",
    "- 비오는 날\n",
    "비오는 날에는 아무래도 대여를 많이 안하겠지뭐... 강수 형태가 중요하다고 생각이 든다. 강수형태가 어떻게 되어있는지에 따라서... 대여 량도 많이 변할거 같은데. \n",
    "\n"
   ]
  },
  {
   "cell_type": "code",
   "execution_count": null,
   "id": "5999ed97",
   "metadata": {},
   "outputs": [],
   "source": []
  },
  {
   "cell_type": "code",
   "execution_count": null,
   "id": "91b4ea87",
   "metadata": {},
   "outputs": [],
   "source": []
  },
  {
   "cell_type": "code",
   "execution_count": null,
   "id": "6b3c2caf",
   "metadata": {},
   "outputs": [],
   "source": []
  },
  {
   "cell_type": "code",
   "execution_count": null,
   "id": "0b784bf3",
   "metadata": {},
   "outputs": [],
   "source": []
  },
  {
   "cell_type": "code",
   "execution_count": null,
   "id": "b75be89c",
   "metadata": {},
   "outputs": [],
   "source": []
  },
  {
   "cell_type": "code",
   "execution_count": null,
   "id": "26ceb52f",
   "metadata": {},
   "outputs": [],
   "source": []
  },
  {
   "cell_type": "code",
   "execution_count": null,
   "id": "9b2f92e0",
   "metadata": {},
   "outputs": [],
   "source": []
  },
  {
   "cell_type": "code",
   "execution_count": null,
   "id": "eb2e5485",
   "metadata": {},
   "outputs": [],
   "source": []
  }
 ],
 "metadata": {
  "hide_input": false,
  "kernelspec": {
   "display_name": "Python 3 (ipykernel)",
   "language": "python",
   "name": "python3"
  },
  "language_info": {
   "codemirror_mode": {
    "name": "ipython",
    "version": 3
   },
   "file_extension": ".py",
   "mimetype": "text/x-python",
   "name": "python",
   "nbconvert_exporter": "python",
   "pygments_lexer": "ipython3",
   "version": "3.8.8"
  },
  "varInspector": {
   "cols": {
    "lenName": 16,
    "lenType": 16,
    "lenVar": 40
   },
   "kernels_config": {
    "python": {
     "delete_cmd_postfix": "",
     "delete_cmd_prefix": "del ",
     "library": "var_list.py",
     "varRefreshCmd": "print(var_dic_list())"
    },
    "r": {
     "delete_cmd_postfix": ") ",
     "delete_cmd_prefix": "rm(",
     "library": "var_list.r",
     "varRefreshCmd": "cat(var_dic_list()) "
    }
   },
   "types_to_exclude": [
    "module",
    "function",
    "builtin_function_or_method",
    "instance",
    "_Feature"
   ],
   "window_display": false
  }
 },
 "nbformat": 4,
 "nbformat_minor": 5
}
