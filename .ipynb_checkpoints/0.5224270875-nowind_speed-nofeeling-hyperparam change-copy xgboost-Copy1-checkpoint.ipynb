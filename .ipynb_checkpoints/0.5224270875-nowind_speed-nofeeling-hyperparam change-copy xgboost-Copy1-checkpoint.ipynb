{
 "cells": [
  {
   "cell_type": "markdown",
   "id": "3a0d54e3-a5ac-49f5-9768-4e3867312443",
   "metadata": {},
   "source": [
    "안녕하세요. XGBoost Regressor 와 간단한 feature selection 을 이용한 코드입니다. 상세 설명은 코드의 주석을 참고 바랍니다. 혹시 질문이나 잘못된 부분에 대해 덧글 부탁드립니다. 감사합니다."
   ]
  },
  {
   "cell_type": "markdown",
   "id": "b2b807bd-6c2d-4a91-bacb-c100d9e26cd3",
   "metadata": {},
   "source": [
    "# 1. 구현 환경"
   ]
  },
  {
   "cell_type": "markdown",
   "id": "ed121584-b57a-4dd1-953e-c6b55e5f2cff",
   "metadata": {},
   "source": [
    "# 2. 패키지"
   ]
  },
  {
   "cell_type": "code",
   "execution_count": 31,
   "id": "405eaa6a-26ef-437f-89ec-addf40d9e919",
   "metadata": {
    "ExecuteTime": {
     "end_time": "2021-11-06T10:39:55.513200Z",
     "start_time": "2021-11-06T10:39:55.391919Z"
    }
   },
   "outputs": [],
   "source": [
    "import os\n",
    "# os.environ['CUDA_VISIBLE_DEVICES'] = '1' # 사용하려는 GPU 번호\n",
    "import pandas as pd\n",
    "import numpy as np\n",
    "import warnings\n",
    "warnings.filterwarnings('ignore')\n",
    "from sklearn.model_selection import train_test_split\n",
    "import IPython.display as ipd\n",
    "import matplotlib.pyplot as plt\n",
    "import seaborn as sns\n",
    "%matplotlib inline"
   ]
  },
  {
   "cell_type": "markdown",
   "id": "51f9b4dd-bc88-4c29-873b-57d13a2556bc",
   "metadata": {},
   "source": [
    "# 3. 상수 설정"
   ]
  },
  {
   "cell_type": "markdown",
   "id": "934d2bed-79c6-4735-99b1-c5758d6335c3",
   "metadata": {},
   "source": [
    "Standardizatino 과 min-max scaling 모두 적용해보았으나 아무것도 적용하지 않은 경우 점수가 더 높았습니다."
   ]
  },
  {
   "cell_type": "code",
   "execution_count": 2,
   "id": "3f6abdca-92b5-4b84-bb7c-5fcc6b005e19",
   "metadata": {
    "ExecuteTime": {
     "end_time": "2021-11-06T10:32:27.382960Z",
     "start_time": "2021-11-06T10:32:27.380617Z"
    }
   },
   "outputs": [],
   "source": [
    "SCALE = False"
   ]
  },
  {
   "cell_type": "markdown",
   "id": "85b097ce-f5ee-4a40-9149-8146aa6fa22f",
   "metadata": {},
   "source": [
    "# 4. 데이터 불러오기"
   ]
  },
  {
   "cell_type": "code",
   "execution_count": 3,
   "id": "a58e3eac-93de-4a74-afea-16d86e2a3c02",
   "metadata": {
    "ExecuteTime": {
     "end_time": "2021-11-06T10:32:27.391390Z",
     "start_time": "2021-11-06T10:32:27.385381Z"
    }
   },
   "outputs": [],
   "source": [
    "trainset = pd.read_csv('train.csv')"
   ]
  },
  {
   "cell_type": "code",
   "execution_count": 4,
   "id": "0e43490f-e655-43ca-b437-8e940e7ad684",
   "metadata": {
    "ExecuteTime": {
     "end_time": "2021-11-06T10:32:27.404733Z",
     "start_time": "2021-11-06T10:32:27.395977Z"
    }
   },
   "outputs": [
    {
     "data": {
      "text/plain": [
       "date_time                    0\n",
       "wind_direction               0\n",
       "sky_condition                0\n",
       "precipitation_form           0\n",
       "wind_speed                   0\n",
       "humidity                     0\n",
       "low_temp                     0\n",
       "high_temp                    0\n",
       "Precipitation_Probability    0\n",
       "number_of_rentals            0\n",
       "dtype: int64"
      ]
     },
     "execution_count": 4,
     "metadata": {},
     "output_type": "execute_result"
    }
   ],
   "source": [
    "# 결측치 확인\n",
    "np.sum(trainset.isna())"
   ]
  },
  {
   "cell_type": "code",
   "execution_count": 5,
   "id": "868f61b7-1e0f-4179-9bfb-ef651649855b",
   "metadata": {
    "ExecuteTime": {
     "end_time": "2021-11-06T10:32:27.411711Z",
     "start_time": "2021-11-06T10:32:27.406384Z"
    }
   },
   "outputs": [],
   "source": [
    "testset = pd.read_csv('test.csv')"
   ]
  },
  {
   "cell_type": "code",
   "execution_count": 6,
   "id": "afb92cfb-66c4-4c96-a80d-bb112e8d7a8f",
   "metadata": {
    "ExecuteTime": {
     "end_time": "2021-11-06T10:32:27.419517Z",
     "start_time": "2021-11-06T10:32:27.413743Z"
    }
   },
   "outputs": [
    {
     "data": {
      "text/plain": [
       "date_time                    0\n",
       "wind_direction               0\n",
       "sky_condition                0\n",
       "precipitation_form           0\n",
       "wind_speed                   0\n",
       "humidity                     0\n",
       "low_temp                     0\n",
       "high_temp                    0\n",
       "Precipitation_Probability    0\n",
       "dtype: int64"
      ]
     },
     "execution_count": 6,
     "metadata": {},
     "output_type": "execute_result"
    }
   ],
   "source": [
    "# 결측치 확인\n",
    "np.sum(testset.isna())"
   ]
  },
  {
   "cell_type": "code",
   "execution_count": 7,
   "id": "9ee0311c-1267-4feb-b5c5-b1520d593134",
   "metadata": {
    "ExecuteTime": {
     "end_time": "2021-11-06T10:32:27.425802Z",
     "start_time": "2021-11-06T10:32:27.421070Z"
    }
   },
   "outputs": [],
   "source": [
    "# 최종 제출을 위한 dataframe 불러오기\n",
    "submission = pd.read_csv('sample_submission.csv')"
   ]
  },
  {
   "cell_type": "markdown",
   "id": "3e6cd0b4-147b-44fe-82b0-5dfe813918a5",
   "metadata": {},
   "source": [
    "원본 dataframe 의 date_time 칼럼은 기계학습 알고리즘에 그대로 적용하기에 정보가 부족합니다. 그래서 정보를 상세하게 풀어서 추가해주었습니다. \n",
    "* week: 연도 별로 몇째 주 마다 이용자가 다를 수 있으므로 요일 정보를 추가해줍니다.\n",
    "* weekday: 요일별로 따릉이 이용자가 다를 수 있으므로 요일 정보를 추가해줍니다.\n",
    "* <b>추가 해볼 수 있는 것: 평일 / 주말 이용자가 다를 수 있으므로 평일과 주말에 대한 칼럼도 추가해주면 성능 향상에 도움이 될 듯 합니다.</b>"
   ]
  },
  {
   "cell_type": "code",
   "execution_count": 8,
   "id": "ca144f08",
   "metadata": {
    "ExecuteTime": {
     "end_time": "2021-11-06T10:32:27.451849Z",
     "start_time": "2021-11-06T10:32:27.429838Z"
    }
   },
   "outputs": [],
   "source": [
    "trainset['Temperature']= (trainset['low_temp']+trainset['high_temp'])/2\n",
    "testset['Temperature']= (testset['low_temp']+testset['high_temp'])/2\n",
    "trainset['Feeling'] = (5/9)*trainset['Temperature']-0.55*((100-trainset['humidity'])/100)*((5/9)*trainset['Temperature']-26)+32\n",
    "testset['Feeling'] = (5/9)*testset['Temperature']-0.55*((100-testset['humidity'])/100)*((5/9)*testset['Temperature']-26)+32\n",
    "\n",
    "trainset.drop(['wind_direction','Precipitation_Probability'], axis = 1,inplace = True)\n",
    "testset.drop(['wind_direction','Precipitation_Probability'], axis = 1,inplace = True)"
   ]
  },
  {
   "cell_type": "code",
   "execution_count": 9,
   "id": "9d67d3b9",
   "metadata": {
    "ExecuteTime": {
     "end_time": "2021-11-06T10:32:27.470133Z",
     "start_time": "2021-11-06T10:32:27.453268Z"
    }
   },
   "outputs": [
    {
     "data": {
      "text/html": [
       "<div>\n",
       "<style scoped>\n",
       "    .dataframe tbody tr th:only-of-type {\n",
       "        vertical-align: middle;\n",
       "    }\n",
       "\n",
       "    .dataframe tbody tr th {\n",
       "        vertical-align: top;\n",
       "    }\n",
       "\n",
       "    .dataframe thead th {\n",
       "        text-align: right;\n",
       "    }\n",
       "</style>\n",
       "<table border=\"1\" class=\"dataframe\">\n",
       "  <thead>\n",
       "    <tr style=\"text-align: right;\">\n",
       "      <th></th>\n",
       "      <th>date_time</th>\n",
       "      <th>sky_condition</th>\n",
       "      <th>precipitation_form</th>\n",
       "      <th>wind_speed</th>\n",
       "      <th>humidity</th>\n",
       "      <th>low_temp</th>\n",
       "      <th>high_temp</th>\n",
       "      <th>number_of_rentals</th>\n",
       "      <th>Temperature</th>\n",
       "      <th>Feeling</th>\n",
       "    </tr>\n",
       "  </thead>\n",
       "  <tbody>\n",
       "    <tr>\n",
       "      <th>0</th>\n",
       "      <td>2018-04-01</td>\n",
       "      <td>4.000</td>\n",
       "      <td>0.000</td>\n",
       "      <td>3.050</td>\n",
       "      <td>75.000</td>\n",
       "      <td>12.600</td>\n",
       "      <td>21.000</td>\n",
       "      <td>22994</td>\n",
       "      <td>16.800</td>\n",
       "      <td>43.625000</td>\n",
       "    </tr>\n",
       "    <tr>\n",
       "      <th>1</th>\n",
       "      <td>2018-04-02</td>\n",
       "      <td>2.950</td>\n",
       "      <td>0.000</td>\n",
       "      <td>3.278</td>\n",
       "      <td>69.833</td>\n",
       "      <td>12.812</td>\n",
       "      <td>19.000</td>\n",
       "      <td>28139</td>\n",
       "      <td>15.906</td>\n",
       "      <td>43.684381</td>\n",
       "    </tr>\n",
       "    <tr>\n",
       "      <th>2</th>\n",
       "      <td>2018-04-03</td>\n",
       "      <td>2.911</td>\n",
       "      <td>0.000</td>\n",
       "      <td>2.690</td>\n",
       "      <td>74.879</td>\n",
       "      <td>10.312</td>\n",
       "      <td>15.316</td>\n",
       "      <td>26817</td>\n",
       "      <td>12.814</td>\n",
       "      <td>41.727607</td>\n",
       "    </tr>\n",
       "    <tr>\n",
       "      <th>3</th>\n",
       "      <td>2018-04-04</td>\n",
       "      <td>3.692</td>\n",
       "      <td>0.425</td>\n",
       "      <td>3.138</td>\n",
       "      <td>71.849</td>\n",
       "      <td>8.312</td>\n",
       "      <td>12.368</td>\n",
       "      <td>26034</td>\n",
       "      <td>10.340</td>\n",
       "      <td>40.880622</td>\n",
       "    </tr>\n",
       "    <tr>\n",
       "      <th>4</th>\n",
       "      <td>2018-04-05</td>\n",
       "      <td>4.000</td>\n",
       "      <td>0.723</td>\n",
       "      <td>3.186</td>\n",
       "      <td>73.784</td>\n",
       "      <td>5.875</td>\n",
       "      <td>10.421</td>\n",
       "      <td>2833</td>\n",
       "      <td>8.148</td>\n",
       "      <td>39.622864</td>\n",
       "    </tr>\n",
       "  </tbody>\n",
       "</table>\n",
       "</div>"
      ],
      "text/plain": [
       "    date_time  sky_condition  precipitation_form  wind_speed  humidity  \\\n",
       "0  2018-04-01          4.000               0.000       3.050    75.000   \n",
       "1  2018-04-02          2.950               0.000       3.278    69.833   \n",
       "2  2018-04-03          2.911               0.000       2.690    74.879   \n",
       "3  2018-04-04          3.692               0.425       3.138    71.849   \n",
       "4  2018-04-05          4.000               0.723       3.186    73.784   \n",
       "\n",
       "   low_temp  high_temp  number_of_rentals  Temperature    Feeling  \n",
       "0    12.600     21.000              22994       16.800  43.625000  \n",
       "1    12.812     19.000              28139       15.906  43.684381  \n",
       "2    10.312     15.316              26817       12.814  41.727607  \n",
       "3     8.312     12.368              26034       10.340  40.880622  \n",
       "4     5.875     10.421               2833        8.148  39.622864  "
      ]
     },
     "execution_count": 9,
     "metadata": {},
     "output_type": "execute_result"
    }
   ],
   "source": [
    "trainset.head()"
   ]
  },
  {
   "cell_type": "code",
   "execution_count": 10,
   "id": "7ebad2e0-8f1a-496a-b175-f5a15d730428",
   "metadata": {
    "ExecuteTime": {
     "end_time": "2021-11-06T10:32:27.477226Z",
     "start_time": "2021-11-06T10:32:27.472058Z"
    }
   },
   "outputs": [],
   "source": [
    "def split_date(df):\n",
    "    '''\n",
    "    args\n",
    "        df: 원본 데이터프레임\n",
    "    return\n",
    "        year, month, day, week, weekday 정보를 추가한 dataframe\n",
    "    '''\n",
    "    df['year'] = pd.to_datetime(df['date_time']).dt.year\n",
    "    df['month'] = pd.to_datetime(df['date_time']).dt.month\n",
    "    df['day'] = pd.to_datetime(df['date_time']).dt.day\n",
    "    df['week'] = pd.to_datetime(df['date_time']).dt.week\n",
    "    df['weekday'] = pd.to_datetime(df['date_time']).dt.weekday\n",
    "    # df['quarter'] = pd.to_datetime(df['date_time']).dt.quarter # 데이터는 모두 동일 분기 데이터이므로 무의미\n",
    "    \n",
    "    return df.drop(columns=['date_time'])"
   ]
  },
  {
   "cell_type": "code",
   "execution_count": 32,
   "id": "97867b92",
   "metadata": {
    "ExecuteTime": {
     "end_time": "2021-11-06T10:39:59.125504Z",
     "start_time": "2021-11-06T10:39:57.763441Z"
    }
   },
   "outputs": [
    {
     "data": {
      "image/png": "[encoded data removed]",
      "text/plain": [
       "<Figure size 1440x720 with 2 Axes>"
      ]
     },
     "metadata": {
      "needs_background": "light"
     },
     "output_type": "display_data"
    }
   ],
   "source": [
    "train_number = trainset.select_dtypes(np.number)\n",
    "\n",
    "\n",
    "corr = train_number.corr()\n",
    "plt.figure(figsize=(20, 10))\n",
    "ax = sns.heatmap(\n",
    "    corr, \n",
    "    vmin=-1, vmax=1, center=0,\n",
    "    cmap=sns.diverging_palette(20, 220, n=200),\n",
    "    square=True,\n",
    "    annot=True\n",
    ")\n",
    "\n",
    "ax.set_xticklabels(\n",
    "    ax.get_xticklabels(),\n",
    "    rotation=45,\n",
    "    horizontalalignment='right'\n",
    ")\n",
    "\n",
    "plt.title('Correlation heatmap', fontsize=30)\n",
    "plt.show()"
   ]
  },
  {
   "cell_type": "code",
   "execution_count": 11,
   "id": "d6eeb177-a153-4bc5-aaa8-ce4125ac4e83",
   "metadata": {
    "ExecuteTime": {
     "end_time": "2021-11-06T10:32:27.501684Z",
     "start_time": "2021-11-06T10:32:27.479203Z"
    }
   },
   "outputs": [],
   "source": [
    "traindf = split_date(trainset)\n",
    "testdf = split_date(testset)"
   ]
  },
  {
   "cell_type": "code",
   "execution_count": 12,
   "id": "26ae6b4d-e01e-4941-86aa-e1ac1f1e07bd",
   "metadata": {
    "ExecuteTime": {
     "end_time": "2021-11-06T10:32:27.506694Z",
     "start_time": "2021-11-06T10:32:27.503096Z"
    }
   },
   "outputs": [],
   "source": [
    "keys = traindf.drop(columns=['number_of_rentals']).keys()"
   ]
  },
  {
   "cell_type": "code",
   "execution_count": 13,
   "id": "86d702c8-0a6a-4fbe-92fa-ab5a5f0c0257",
   "metadata": {
    "ExecuteTime": {
     "end_time": "2021-11-06T10:32:27.523050Z",
     "start_time": "2021-11-06T10:32:27.508611Z"
    }
   },
   "outputs": [
    {
     "data": {
      "text/html": [
       "<div>\n",
       "<style scoped>\n",
       "    .dataframe tbody tr th:only-of-type {\n",
       "        vertical-align: middle;\n",
       "    }\n",
       "\n",
       "    .dataframe tbody tr th {\n",
       "        vertical-align: top;\n",
       "    }\n",
       "\n",
       "    .dataframe thead th {\n",
       "        text-align: right;\n",
       "    }\n",
       "</style>\n",
       "<table border=\"1\" class=\"dataframe\">\n",
       "  <thead>\n",
       "    <tr style=\"text-align: right;\">\n",
       "      <th></th>\n",
       "      <th>sky_condition</th>\n",
       "      <th>precipitation_form</th>\n",
       "      <th>wind_speed</th>\n",
       "      <th>humidity</th>\n",
       "      <th>low_temp</th>\n",
       "      <th>high_temp</th>\n",
       "      <th>number_of_rentals</th>\n",
       "      <th>Temperature</th>\n",
       "      <th>Feeling</th>\n",
       "      <th>year</th>\n",
       "      <th>month</th>\n",
       "      <th>day</th>\n",
       "      <th>week</th>\n",
       "      <th>weekday</th>\n",
       "    </tr>\n",
       "  </thead>\n",
       "  <tbody>\n",
       "    <tr>\n",
       "      <th>0</th>\n",
       "      <td>4.000</td>\n",
       "      <td>0.000</td>\n",
       "      <td>3.050</td>\n",
       "      <td>75.000</td>\n",
       "      <td>12.600</td>\n",
       "      <td>21.000</td>\n",
       "      <td>22994</td>\n",
       "      <td>16.800</td>\n",
       "      <td>43.625000</td>\n",
       "      <td>2018</td>\n",
       "      <td>4</td>\n",
       "      <td>1</td>\n",
       "      <td>13</td>\n",
       "      <td>6</td>\n",
       "    </tr>\n",
       "    <tr>\n",
       "      <th>1</th>\n",
       "      <td>2.950</td>\n",
       "      <td>0.000</td>\n",
       "      <td>3.278</td>\n",
       "      <td>69.833</td>\n",
       "      <td>12.812</td>\n",
       "      <td>19.000</td>\n",
       "      <td>28139</td>\n",
       "      <td>15.906</td>\n",
       "      <td>43.684381</td>\n",
       "      <td>2018</td>\n",
       "      <td>4</td>\n",
       "      <td>2</td>\n",
       "      <td>14</td>\n",
       "      <td>0</td>\n",
       "    </tr>\n",
       "    <tr>\n",
       "      <th>2</th>\n",
       "      <td>2.911</td>\n",
       "      <td>0.000</td>\n",
       "      <td>2.690</td>\n",
       "      <td>74.879</td>\n",
       "      <td>10.312</td>\n",
       "      <td>15.316</td>\n",
       "      <td>26817</td>\n",
       "      <td>12.814</td>\n",
       "      <td>41.727607</td>\n",
       "      <td>2018</td>\n",
       "      <td>4</td>\n",
       "      <td>3</td>\n",
       "      <td>14</td>\n",
       "      <td>1</td>\n",
       "    </tr>\n",
       "    <tr>\n",
       "      <th>3</th>\n",
       "      <td>3.692</td>\n",
       "      <td>0.425</td>\n",
       "      <td>3.138</td>\n",
       "      <td>71.849</td>\n",
       "      <td>8.312</td>\n",
       "      <td>12.368</td>\n",
       "      <td>26034</td>\n",
       "      <td>10.340</td>\n",
       "      <td>40.880622</td>\n",
       "      <td>2018</td>\n",
       "      <td>4</td>\n",
       "      <td>4</td>\n",
       "      <td>14</td>\n",
       "      <td>2</td>\n",
       "    </tr>\n",
       "    <tr>\n",
       "      <th>4</th>\n",
       "      <td>4.000</td>\n",
       "      <td>0.723</td>\n",
       "      <td>3.186</td>\n",
       "      <td>73.784</td>\n",
       "      <td>5.875</td>\n",
       "      <td>10.421</td>\n",
       "      <td>2833</td>\n",
       "      <td>8.148</td>\n",
       "      <td>39.622864</td>\n",
       "      <td>2018</td>\n",
       "      <td>4</td>\n",
       "      <td>5</td>\n",
       "      <td>14</td>\n",
       "      <td>3</td>\n",
       "    </tr>\n",
       "  </tbody>\n",
       "</table>\n",
       "</div>"
      ],
      "text/plain": [
       "   sky_condition  precipitation_form  wind_speed  humidity  low_temp  \\\n",
       "0          4.000               0.000       3.050    75.000    12.600   \n",
       "1          2.950               0.000       3.278    69.833    12.812   \n",
       "2          2.911               0.000       2.690    74.879    10.312   \n",
       "3          3.692               0.425       3.138    71.849     8.312   \n",
       "4          4.000               0.723       3.186    73.784     5.875   \n",
       "\n",
       "   high_temp  number_of_rentals  Temperature    Feeling  year  month  day  \\\n",
       "0     21.000              22994       16.800  43.625000  2018      4    1   \n",
       "1     19.000              28139       15.906  43.684381  2018      4    2   \n",
       "2     15.316              26817       12.814  41.727607  2018      4    3   \n",
       "3     12.368              26034       10.340  40.880622  2018      4    4   \n",
       "4     10.421               2833        8.148  39.622864  2018      4    5   \n",
       "\n",
       "   week  weekday  \n",
       "0    13        6  \n",
       "1    14        0  \n",
       "2    14        1  \n",
       "3    14        2  \n",
       "4    14        3  "
      ]
     },
     "execution_count": 13,
     "metadata": {},
     "output_type": "execute_result"
    }
   ],
   "source": [
    "traindf.head()"
   ]
  },
  {
   "cell_type": "code",
   "execution_count": 14,
   "id": "86840c5e-4d5c-4849-88ed-5a6275d6b6d6",
   "metadata": {
    "ExecuteTime": {
     "end_time": "2021-11-06T10:32:27.541483Z",
     "start_time": "2021-11-06T10:32:27.525138Z"
    }
   },
   "outputs": [
    {
     "data": {
      "text/html": [
       "<div>\n",
       "<style scoped>\n",
       "    .dataframe tbody tr th:only-of-type {\n",
       "        vertical-align: middle;\n",
       "    }\n",
       "\n",
       "    .dataframe tbody tr th {\n",
       "        vertical-align: top;\n",
       "    }\n",
       "\n",
       "    .dataframe thead th {\n",
       "        text-align: right;\n",
       "    }\n",
       "</style>\n",
       "<table border=\"1\" class=\"dataframe\">\n",
       "  <thead>\n",
       "    <tr style=\"text-align: right;\">\n",
       "      <th></th>\n",
       "      <th>sky_condition</th>\n",
       "      <th>precipitation_form</th>\n",
       "      <th>wind_speed</th>\n",
       "      <th>humidity</th>\n",
       "      <th>low_temp</th>\n",
       "      <th>high_temp</th>\n",
       "      <th>Temperature</th>\n",
       "      <th>Feeling</th>\n",
       "      <th>year</th>\n",
       "      <th>month</th>\n",
       "      <th>day</th>\n",
       "      <th>week</th>\n",
       "      <th>weekday</th>\n",
       "    </tr>\n",
       "  </thead>\n",
       "  <tbody>\n",
       "    <tr>\n",
       "      <th>0</th>\n",
       "      <td>3.000</td>\n",
       "      <td>0.000</td>\n",
       "      <td>2.900</td>\n",
       "      <td>28.333</td>\n",
       "      <td>11.800</td>\n",
       "      <td>20.667</td>\n",
       "      <td>16.2335</td>\n",
       "      <td>47.712140</td>\n",
       "      <td>2021</td>\n",
       "      <td>4</td>\n",
       "      <td>1</td>\n",
       "      <td>13</td>\n",
       "      <td>3</td>\n",
       "    </tr>\n",
       "    <tr>\n",
       "      <th>1</th>\n",
       "      <td>3.850</td>\n",
       "      <td>0.000</td>\n",
       "      <td>2.662</td>\n",
       "      <td>46.417</td>\n",
       "      <td>12.000</td>\n",
       "      <td>19.000</td>\n",
       "      <td>15.5000</td>\n",
       "      <td>45.735730</td>\n",
       "      <td>2021</td>\n",
       "      <td>4</td>\n",
       "      <td>2</td>\n",
       "      <td>13</td>\n",
       "      <td>4</td>\n",
       "    </tr>\n",
       "    <tr>\n",
       "      <th>2</th>\n",
       "      <td>4.000</td>\n",
       "      <td>0.565</td>\n",
       "      <td>2.165</td>\n",
       "      <td>77.258</td>\n",
       "      <td>8.875</td>\n",
       "      <td>16.368</td>\n",
       "      <td>12.6215</td>\n",
       "      <td>41.386989</td>\n",
       "      <td>2021</td>\n",
       "      <td>4</td>\n",
       "      <td>3</td>\n",
       "      <td>13</td>\n",
       "      <td>5</td>\n",
       "    </tr>\n",
       "    <tr>\n",
       "      <th>3</th>\n",
       "      <td>3.466</td>\n",
       "      <td>0.466</td>\n",
       "      <td>3.747</td>\n",
       "      <td>63.288</td>\n",
       "      <td>6.250</td>\n",
       "      <td>17.368</td>\n",
       "      <td>11.8090</td>\n",
       "      <td>42.485690</td>\n",
       "      <td>2021</td>\n",
       "      <td>4</td>\n",
       "      <td>4</td>\n",
       "      <td>13</td>\n",
       "      <td>6</td>\n",
       "    </tr>\n",
       "    <tr>\n",
       "      <th>4</th>\n",
       "      <td>1.500</td>\n",
       "      <td>0.000</td>\n",
       "      <td>1.560</td>\n",
       "      <td>48.176</td>\n",
       "      <td>7.188</td>\n",
       "      <td>18.684</td>\n",
       "      <td>12.9360</td>\n",
       "      <td>44.549069</td>\n",
       "      <td>2021</td>\n",
       "      <td>4</td>\n",
       "      <td>5</td>\n",
       "      <td>14</td>\n",
       "      <td>0</td>\n",
       "    </tr>\n",
       "  </tbody>\n",
       "</table>\n",
       "</div>"
      ],
      "text/plain": [
       "   sky_condition  precipitation_form  wind_speed  humidity  low_temp  \\\n",
       "0          3.000               0.000       2.900    28.333    11.800   \n",
       "1          3.850               0.000       2.662    46.417    12.000   \n",
       "2          4.000               0.565       2.165    77.258     8.875   \n",
       "3          3.466               0.466       3.747    63.288     6.250   \n",
       "4          1.500               0.000       1.560    48.176     7.188   \n",
       "\n",
       "   high_temp  Temperature    Feeling  year  month  day  week  weekday  \n",
       "0     20.667      16.2335  47.712140  2021      4    1    13        3  \n",
       "1     19.000      15.5000  45.735730  2021      4    2    13        4  \n",
       "2     16.368      12.6215  41.386989  2021      4    3    13        5  \n",
       "3     17.368      11.8090  42.485690  2021      4    4    13        6  \n",
       "4     18.684      12.9360  44.549069  2021      4    5    14        0  "
      ]
     },
     "execution_count": 14,
     "metadata": {},
     "output_type": "execute_result"
    }
   ],
   "source": [
    "testdf.head()"
   ]
  },
  {
   "cell_type": "code",
   "execution_count": 15,
   "id": "73e534d5-94e6-49c5-b0ec-4743866dd81a",
   "metadata": {
    "ExecuteTime": {
     "end_time": "2021-11-06T10:32:27.546486Z",
     "start_time": "2021-11-06T10:32:27.543280Z"
    }
   },
   "outputs": [],
   "source": [
    "keydict = dict()\n",
    "for i, k in enumerate(keys):\n",
    "    keydict[i]=k"
   ]
  },
  {
   "cell_type": "markdown",
   "id": "40c2e4b4-552b-48a5-ae09-ef6cf7fd3b55",
   "metadata": {},
   "source": [
    "데이터 학습을 위해 입력값과 출력값을 분리해줍니다."
   ]
  },
  {
   "cell_type": "code",
   "execution_count": 16,
   "id": "05bb1f73-a148-4daa-ab1a-87dd14df7bc2",
   "metadata": {
    "ExecuteTime": {
     "end_time": "2021-11-06T10:32:27.553214Z",
     "start_time": "2021-11-06T10:32:27.548214Z"
    }
   },
   "outputs": [],
   "source": [
    "X = np.array(traindf.drop(columns=['number_of_rentals'])).astype(float)\n",
    "y = np.array(traindf['number_of_rentals']).astype(float)\n",
    "X_test = np.array(testdf).astype(float)\n",
    "\n",
    "if SCALE:\n",
    "    x_max = np.max(X, 0)\n",
    "    y_max = np.max(y, 0)\n",
    "    X /= x_max\n",
    "    y /= y_max\n",
    "    X_test /= x_max"
   ]
  },
  {
   "cell_type": "markdown",
   "id": "d1981cc7-75d3-4a12-a950-eaa9e15a95cd",
   "metadata": {},
   "source": [
    "# 5. 유틸리티"
   ]
  },
  {
   "cell_type": "code",
   "execution_count": 17,
   "id": "a8136eed-3b20-4578-b1fe-38ba37981327",
   "metadata": {
    "ExecuteTime": {
     "end_time": "2021-11-06T10:32:27.557998Z",
     "start_time": "2021-11-06T10:32:27.555005Z"
    }
   },
   "outputs": [],
   "source": [
    "def nmae(true, pred):\n",
    "    return np.mean(np.abs(true-pred)/true)"
   ]
  },
  {
   "cell_type": "markdown",
   "id": "7cc624ad-d4d8-4a67-aaa7-3b0c39efa9bb",
   "metadata": {},
   "source": [
    "성능 확인을 위해서 몬테카를로 교차검증을 사용합니다([링크](https://en.wikipedia.org/wiki/Cross-validation_(statistics)의 섹션 Repeated random sub-sampling validation 참고)."
   ]
  },
  {
   "cell_type": "code",
   "execution_count": 18,
   "id": "fa20dfaf-71aa-48f3-a4bd-75b61445d40f",
   "metadata": {
    "ExecuteTime": {
     "end_time": "2021-11-06T10:32:27.565343Z",
     "start_time": "2021-11-06T10:32:27.560014Z"
    }
   },
   "outputs": [],
   "source": [
    "def cv(model, X=X, y=y, cnt=100, test_size=.5):\n",
    "    score = list()\n",
    "    seeds = np.random.choice(np.arange(1e5), size=cnt, replace=False)\n",
    "    for seed in seeds:\n",
    "        X_train, X_valid, y_train, y_valid = train_test_split(X, y, test_size=test_size)\n",
    "        model.fit(X_train, y_train)\n",
    "        y_pred = model.predict(X_valid)\n",
    "        if SCALE:\n",
    "            y_pred *= y_max\n",
    "            y_valid *= y_max\n",
    "        score.append(nmae(y_valid, y_pred))\n",
    "    return np.mean(score)"
   ]
  },
  {
   "cell_type": "markdown",
   "id": "f8cbe94d-1b7c-40da-8480-faa52a2a6019",
   "metadata": {},
   "source": [
    "# 6. Feature selection"
   ]
  },
  {
   "cell_type": "markdown",
   "id": "fc8f8e37-afed-4e91-afa3-c2737d2c7e67",
   "metadata": {},
   "source": [
    "제거 법을 이용해서 feature selection 을 해봅니다."
   ]
  },
  {
   "cell_type": "code",
   "execution_count": 19,
   "id": "549e4b85-ddd1-4d59-aa15-32dc4b158b24",
   "metadata": {
    "ExecuteTime": {
     "end_time": "2021-11-06T10:32:27.570838Z",
     "start_time": "2021-11-06T10:32:27.567193Z"
    }
   },
   "outputs": [],
   "source": [
    "def select_features(X, cols):\n",
    "    _X = list()\n",
    "    for c in cols:\n",
    "        _X.append(np.expand_dims(X[:, c],-1))\n",
    "    return np.concatenate(_X, axis=1)"
   ]
  },
  {
   "cell_type": "code",
   "execution_count": 20,
   "id": "64ee07f6-3620-4850-8716-f418f49d61a6",
   "metadata": {
    "ExecuteTime": {
     "end_time": "2021-11-06T10:32:27.576097Z",
     "start_time": "2021-11-06T10:32:27.572523Z"
    }
   },
   "outputs": [
    {
     "data": {
      "text/plain": [
       "{0: 'sky_condition',\n",
       " 1: 'precipitation_form',\n",
       " 2: 'wind_speed',\n",
       " 3: 'humidity',\n",
       " 4: 'low_temp',\n",
       " 5: 'high_temp',\n",
       " 6: 'Temperature',\n",
       " 7: 'Feeling',\n",
       " 8: 'year',\n",
       " 9: 'month',\n",
       " 10: 'day',\n",
       " 11: 'week',\n",
       " 12: 'weekday'}"
      ]
     },
     "execution_count": 20,
     "metadata": {},
     "output_type": "execute_result"
    }
   ],
   "source": [
    "keydict"
   ]
  },
  {
   "cell_type": "markdown",
   "id": "efa17c3d-648d-4c76-b033-e060d625204e",
   "metadata": {},
   "source": [
    "다양한 모델 확인 결과 XGBRegressor 가 가장 좋아서 이걸 선택했습니다."
   ]
  },
  {
   "cell_type": "code",
   "execution_count": 21,
   "id": "244cc1f4-36a5-4fe4-ac40-9cfb8d803100",
   "metadata": {
    "ExecuteTime": {
     "end_time": "2021-11-06T10:32:27.614280Z",
     "start_time": "2021-11-06T10:32:27.577735Z"
    }
   },
   "outputs": [],
   "source": [
    "from xgboost import XGBRegressor as Model"
   ]
  },
  {
   "cell_type": "code",
   "execution_count": 22,
   "id": "98fa508f-9dea-4dc9-b6c8-0df7c3607921",
   "metadata": {
    "ExecuteTime": {
     "end_time": "2021-11-06T10:33:03.610263Z",
     "start_time": "2021-11-06T10:32:27.615673Z"
    },
    "tags": []
   },
   "outputs": [
    {
     "name": "stdout",
     "output_type": "stream",
     "text": [
      "sky_condition, 0.2717 (min 0.2717)\n",
      "precipitation_form, 0.2967 (min 0.2717)\n",
      "wind_speed, 0.2780 (min 0.2717)\n",
      "humidity, 0.2434 (min 0.2434)\n",
      "low_temp, 0.2431 (min 0.2431)\n",
      "high_temp, 0.2535 (min 0.2431)\n",
      "Temperature, 0.2519 (min 0.2431)\n",
      "Feeling, 0.2391 (min 0.2391)\n",
      "year, 0.5075 (min 0.2391)\n",
      "month, 0.2361 (min 0.2361)\n",
      "day, 0.2477 (min 0.2361)\n",
      "week, 0.2343 (min 0.2343)\n",
      "weekday, 0.2604 (min 0.2343)\n"
     ]
    }
   ],
   "source": [
    "min_loss = 1e10\n",
    "min_cols = None\n",
    "\n",
    "for i in np.arange(start=0, stop=len(keys)):\n",
    "#     model = Model(tree_method='gpu_hist')\n",
    "#     model = Model(silent = 1)\n",
    "    model = Model(eta = 0.1)\n",
    "    cols = np.arange(len(keys))\n",
    "    cols = np.delete(cols, i)\n",
    "    _X = select_features(X, cols)\n",
    "    loss = cv(model, _X, y, cnt=30)\n",
    "    if min_loss > loss:\n",
    "        min_loss = loss\n",
    "        min_cols = f\"{keydict.get(i)}\"\n",
    "    print(f\"{keydict.get(i)}, {loss:.4f} (min {min_loss:.4f})\")"
   ]
  },
  {
   "cell_type": "code",
   "execution_count": 23,
   "id": "617fe906-e3b4-4180-b66a-a200e5a7abc5",
   "metadata": {
    "ExecuteTime": {
     "end_time": "2021-11-06T10:37:21.257776Z",
     "start_time": "2021-11-06T10:33:03.612482Z"
    },
    "scrolled": true,
    "tags": []
   },
   "outputs": [
    {
     "name": "stdout",
     "output_type": "stream",
     "text": [
      "sky_condition, precipitation_form, 0.3216 (min 0.2343)\n",
      "sky_condition, wind_speed, 0.2482 (min 0.2343)\n",
      "sky_condition, humidity, 0.2783 (min 0.2343)\n",
      "sky_condition, low_temp, 0.2550 (min 0.2343)\n",
      "sky_condition, high_temp, 0.2714 (min 0.2343)\n",
      "sky_condition, Temperature, 0.2555 (min 0.2343)\n",
      "sky_condition, Feeling, 0.2544 (min 0.2343)\n",
      "sky_condition, year, 0.4841 (min 0.2343)\n",
      "sky_condition, month, 0.2581 (min 0.2343)\n",
      "sky_condition, day, 0.2683 (min 0.2343)\n",
      "sky_condition, week, 0.2652 (min 0.2343)\n",
      "sky_condition, weekday, 0.2712 (min 0.2343)\n",
      "precipitation_form, wind_speed, 0.2901 (min 0.2343)\n",
      "precipitation_form, humidity, 0.2972 (min 0.2343)\n",
      "precipitation_form, low_temp, 0.2898 (min 0.2343)\n",
      "precipitation_form, high_temp, 0.2812 (min 0.2343)\n",
      "precipitation_form, Temperature, 0.2866 (min 0.2343)\n",
      "precipitation_form, Feeling, 0.2983 (min 0.2343)\n",
      "precipitation_form, year, 0.4771 (min 0.2343)\n",
      "precipitation_form, month, 0.2792 (min 0.2343)\n",
      "precipitation_form, day, 0.2927 (min 0.2343)\n",
      "precipitation_form, week, 0.3056 (min 0.2343)\n",
      "precipitation_form, weekday, 0.3276 (min 0.2343)\n",
      "wind_speed, humidity, 0.2494 (min 0.2343)\n",
      "wind_speed, low_temp, 0.2641 (min 0.2343)\n",
      "wind_speed, high_temp, 0.2516 (min 0.2343)\n",
      "wind_speed, Temperature, 0.2568 (min 0.2343)\n",
      "wind_speed, Feeling, 0.2244 (min 0.2244)\n",
      "wind_speed, year, 0.5420 (min 0.2244)\n",
      "wind_speed, month, 0.2595 (min 0.2244)\n",
      "wind_speed, day, 0.2396 (min 0.2244)\n",
      "wind_speed, week, 0.2629 (min 0.2244)\n",
      "wind_speed, weekday, 0.2439 (min 0.2244)\n",
      "humidity, low_temp, 0.2563 (min 0.2244)\n",
      "humidity, high_temp, 0.2481 (min 0.2244)\n",
      "humidity, Temperature, 0.2415 (min 0.2244)\n",
      "humidity, Feeling, 0.2444 (min 0.2244)\n",
      "humidity, year, 0.4978 (min 0.2244)\n",
      "humidity, month, 0.2431 (min 0.2244)\n",
      "humidity, day, 0.2570 (min 0.2244)\n",
      "humidity, week, 0.2427 (min 0.2244)\n",
      "humidity, weekday, 0.2619 (min 0.2244)\n",
      "low_temp, high_temp, 0.2620 (min 0.2244)\n",
      "low_temp, Temperature, 0.2474 (min 0.2244)\n",
      "low_temp, Feeling, 0.2486 (min 0.2244)\n",
      "low_temp, year, 0.4988 (min 0.2244)\n",
      "low_temp, month, 0.2580 (min 0.2244)\n",
      "low_temp, day, 0.2301 (min 0.2244)\n",
      "low_temp, week, 0.2641 (min 0.2244)\n",
      "low_temp, weekday, 0.2610 (min 0.2244)\n",
      "high_temp, Temperature, 0.2663 (min 0.2244)\n",
      "high_temp, Feeling, 0.2594 (min 0.2244)\n",
      "high_temp, year, 0.4826 (min 0.2244)\n",
      "high_temp, month, 0.2622 (min 0.2244)\n",
      "high_temp, day, 0.2581 (min 0.2244)\n",
      "high_temp, week, 0.2564 (min 0.2244)\n",
      "high_temp, weekday, 0.2560 (min 0.2244)\n",
      "Temperature, Feeling, 0.2332 (min 0.2244)\n",
      "Temperature, year, 0.5088 (min 0.2244)\n",
      "Temperature, month, 0.2574 (min 0.2244)\n",
      "Temperature, day, 0.2481 (min 0.2244)\n",
      "Temperature, week, 0.2547 (min 0.2244)\n",
      "Temperature, weekday, 0.2482 (min 0.2244)\n",
      "Feeling, year, 0.5149 (min 0.2244)\n",
      "Feeling, month, 0.2540 (min 0.2244)\n",
      "Feeling, day, 0.2577 (min 0.2244)\n",
      "Feeling, week, 0.2558 (min 0.2244)\n",
      "Feeling, weekday, 0.2472 (min 0.2244)\n",
      "year, month, 0.4700 (min 0.2244)\n",
      "year, day, 0.5049 (min 0.2244)\n",
      "year, week, 0.4949 (min 0.2244)\n",
      "year, weekday, 0.4686 (min 0.2244)\n",
      "month, day, 0.2548 (min 0.2244)\n",
      "month, week, 0.2486 (min 0.2244)\n",
      "month, weekday, 0.2625 (min 0.2244)\n",
      "day, week, 0.2565 (min 0.2244)\n",
      "day, weekday, 0.2513 (min 0.2244)\n",
      "week, weekday, 0.2511 (min 0.2244)\n"
     ]
    }
   ],
   "source": [
    "for i in np.arange(start=0, stop=len(keys)-1):\n",
    "    for j in np.arange(start=i+1, stop=len(keys)):\n",
    "#         model = Model(tree_method='gpu_hist')\n",
    "        model = Model(eta = 0.1)\n",
    "        cols = np.arange(len(keys))\n",
    "        cols = np.delete(cols, [i,j])\n",
    "        _X = select_features(X, cols)\n",
    "        loss = cv(model, _X, y, cnt=30)\n",
    "        if min_loss > loss:\n",
    "            min_loss = loss\n",
    "            min_cols = f\"{keydict.get(i)}, {keydict.get(j)}\"\n",
    "        print(f\"{keydict.get(i)}, {keydict.get(j)}, {loss:.4f} (min {min_loss:.4f})\")"
   ]
  },
  {
   "cell_type": "markdown",
   "id": "1b1f5ca8-c569-4112-aee9-c19ca1d89cfb",
   "metadata": {},
   "source": [
    "0: 'wind_direction' 과  7: 'Precipitation_Probability' 가 없을 때 성능이 좋을듯 합니다. 풍향은 자전거 이용에 영향을 미치는 변수가 아닐 듯 합니다. 한편, 강수확률(Precipitation_Probability)은 관측치가 아니라 기상청 예측치라면, 예측 오류가 우리가 만드는 최종 모델의 오류를 더 커지게 할 수 있기 때문에 빼는 것이 좋겠습니다."
   ]
  },
  {
   "cell_type": "markdown",
   "id": "235d865e",
   "metadata": {},
   "source": [
    "## min_loss = 0.2227\n"
   ]
  },
  {
   "cell_type": "markdown",
   "id": "3cd45a69-62d2-47cf-b7b4-52065e1e7b9f",
   "metadata": {},
   "source": [
    "# 7. 모델 학습"
   ]
  },
  {
   "cell_type": "code",
   "execution_count": 24,
   "id": "5d9a128e-51a1-4aa8-92aa-a8acf3c8700b",
   "metadata": {
    "ExecuteTime": {
     "end_time": "2021-11-06T10:37:21.429249Z",
     "start_time": "2021-11-06T10:37:21.260396Z"
    }
   },
   "outputs": [],
   "source": [
    "model = Model(eta = 0.1)\n",
    "\n",
    "cols = np.arange(len(keys))\n",
    "cols = np.delete(cols, [0,7]) # 풍향, 강수확률 제거\n",
    "_X = select_features(X, cols)\n",
    "\n",
    "model.fit(_X, y)\n",
    "\n",
    "_X_test = select_features(X_test, cols)\n",
    "y_pred = model.predict(_X_test)\n",
    "if SCALE:\n",
    "    y_pred *= y_max\n",
    "y_pred = y_pred.astype(int)\n",
    "\n",
    "# plt.scatter(np.arange(len(y_pred)), y_pred, s=.5)\n",
    "# plt.show()"
   ]
  },
  {
   "cell_type": "code",
   "execution_count": 25,
   "id": "4e36cc6b-b677-4d4d-8064-720a3e4505f7",
   "metadata": {
    "ExecuteTime": {
     "end_time": "2021-11-06T10:37:21.434992Z",
     "start_time": "2021-11-06T10:37:21.431249Z"
    }
   },
   "outputs": [],
   "source": [
    "submission['number_of_rentals'] = y_pred"
   ]
  },
  {
   "cell_type": "code",
   "execution_count": 26,
   "id": "5a844a98-6d4d-48c1-ba4e-37be78f1fa53",
   "metadata": {
    "ExecuteTime": {
     "end_time": "2021-11-06T10:37:21.454717Z",
     "start_time": "2021-11-06T10:37:21.447724Z"
    }
   },
   "outputs": [],
   "source": [
    "submission.to_csv('drop-0.1-feeling-hyperparam-copy_xgboost_submission.csv', index=False)"
   ]
  },
  {
   "cell_type": "markdown",
   "id": "1ccd7c20-26a8-4a1b-8b6f-87d3ff497085",
   "metadata": {},
   "source": [
    "# score =0.4956833938\t( eta = 0.1)\n",
    "# score =0.4987798086\t(eta = 0.05)"
   ]
  },
  {
   "cell_type": "markdown",
   "id": "fe9ebc6a",
   "metadata": {},
   "source": [
    "현재 순위 13등/415"
   ]
  },
  {
   "cell_type": "code",
   "execution_count": null,
   "id": "f039a617",
   "metadata": {},
   "outputs": [],
   "source": []
  }
 ],
 "metadata": {
  "hide_input": false,
  "kernelspec": {
   "display_name": "Python 3 (ipykernel)",
   "language": "python",
   "name": "python3"
  },
  "language_info": {
   "codemirror_mode": {
    "name": "ipython",
    "version": 3
   },
   "file_extension": ".py",
   "mimetype": "text/x-python",
   "name": "python",
   "nbconvert_exporter": "python",
   "pygments_lexer": "ipython3",
   "version": "3.8.8"
  },
  "varInspector": {
   "cols": {
    "lenName": 16,
    "lenType": 16,
    "lenVar": 40
   },
   "kernels_config": {
    "python": {
     "delete_cmd_postfix": "",
     "delete_cmd_prefix": "del ",
     "library": "var_list.py",
     "varRefreshCmd": "print(var_dic_list())"
    },
    "r": {
     "delete_cmd_postfix": ") ",
     "delete_cmd_prefix": "rm(",
     "library": "var_list.r",
     "varRefreshCmd": "cat(var_dic_list()) "
    }
   },
   "types_to_exclude": [
    "module",
    "function",
    "builtin_function_or_method",
    "instance",
    "_Feature"
   ],
   "window_display": false
  }
 },
 "nbformat": 4,
 "nbformat_minor": 5
}
