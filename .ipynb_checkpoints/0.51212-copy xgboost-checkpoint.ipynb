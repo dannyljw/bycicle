{
 "cells": [
  {
   "cell_type": "markdown",
   "id": "3a0d54e3-a5ac-49f5-9768-4e3867312443",
   "metadata": {},
   "source": [
    "안녕하세요. XGBoost Regressor 와 간단한 feature selection 을 이용한 코드입니다. 상세 설명은 코드의 주석을 참고 바랍니다. 혹시 질문이나 잘못된 부분에 대해 덧글 부탁드립니다. 감사합니다."
   ]
  },
  {
   "cell_type": "markdown",
   "id": "b2b807bd-6c2d-4a91-bacb-c100d9e26cd3",
   "metadata": {},
   "source": [
    "# 1. 구현 환경"
   ]
  },
  {
   "cell_type": "markdown",
   "id": "ed121584-b57a-4dd1-953e-c6b55e5f2cff",
   "metadata": {},
   "source": [
    "# 2. 패키지"
   ]
  },
  {
   "cell_type": "code",
   "execution_count": 1,
   "id": "405eaa6a-26ef-437f-89ec-addf40d9e919",
   "metadata": {
    "ExecuteTime": {
     "end_time": "2021-11-04T15:40:47.773821Z",
     "start_time": "2021-11-04T15:40:46.772357Z"
    }
   },
   "outputs": [],
   "source": [
    "import os\n",
    "# os.environ['CUDA_VISIBLE_DEVICES'] = '1' # 사용하려는 GPU 번호\n",
    "import pandas as pd\n",
    "import numpy as np\n",
    "import warnings\n",
    "warnings.filterwarnings('ignore')\n",
    "from sklearn.model_selection import train_test_split\n",
    "import IPython.display as ipd\n",
    "%matplotlib inline"
   ]
  },
  {
   "cell_type": "markdown",
   "id": "51f9b4dd-bc88-4c29-873b-57d13a2556bc",
   "metadata": {},
   "source": [
    "# 3. 상수 설정"
   ]
  },
  {
   "cell_type": "markdown",
   "id": "934d2bed-79c6-4735-99b1-c5758d6335c3",
   "metadata": {},
   "source": [
    "Standardizatino 과 min-max scaling 모두 적용해보았으나 아무것도 적용하지 않은 경우 점수가 더 높았습니다."
   ]
  },
  {
   "cell_type": "code",
   "execution_count": 2,
   "id": "3f6abdca-92b5-4b84-bb7c-5fcc6b005e19",
   "metadata": {
    "ExecuteTime": {
     "end_time": "2021-11-04T15:40:47.778322Z",
     "start_time": "2021-11-04T15:40:47.775678Z"
    }
   },
   "outputs": [],
   "source": [
    "SCALE = False"
   ]
  },
  {
   "cell_type": "markdown",
   "id": "85b097ce-f5ee-4a40-9149-8146aa6fa22f",
   "metadata": {},
   "source": [
    "# 4. 데이터 불러오기"
   ]
  },
  {
   "cell_type": "code",
   "execution_count": 3,
   "id": "a58e3eac-93de-4a74-afea-16d86e2a3c02",
   "metadata": {
    "ExecuteTime": {
     "end_time": "2021-11-04T15:40:47.787406Z",
     "start_time": "2021-11-04T15:40:47.780989Z"
    }
   },
   "outputs": [],
   "source": [
    "trainset = pd.read_csv('train.csv')"
   ]
  },
  {
   "cell_type": "code",
   "execution_count": 4,
   "id": "0e43490f-e655-43ca-b437-8e940e7ad684",
   "metadata": {
    "ExecuteTime": {
     "end_time": "2021-11-04T15:40:47.796792Z",
     "start_time": "2021-11-04T15:40:47.789324Z"
    }
   },
   "outputs": [
    {
     "data": {
      "text/plain": [
       "date_time                    0\n",
       "wind_direction               0\n",
       "sky_condition                0\n",
       "precipitation_form           0\n",
       "wind_speed                   0\n",
       "humidity                     0\n",
       "low_temp                     0\n",
       "high_temp                    0\n",
       "Precipitation_Probability    0\n",
       "number_of_rentals            0\n",
       "dtype: int64"
      ]
     },
     "execution_count": 4,
     "metadata": {},
     "output_type": "execute_result"
    }
   ],
   "source": [
    "# 결측치 확인\n",
    "np.sum(trainset.isna())"
   ]
  },
  {
   "cell_type": "code",
   "execution_count": 5,
   "id": "868f61b7-1e0f-4179-9bfb-ef651649855b",
   "metadata": {
    "ExecuteTime": {
     "end_time": "2021-11-04T15:40:47.804617Z",
     "start_time": "2021-11-04T15:40:47.799060Z"
    }
   },
   "outputs": [],
   "source": [
    "testset = pd.read_csv('test.csv')"
   ]
  },
  {
   "cell_type": "code",
   "execution_count": 6,
   "id": "afb92cfb-66c4-4c96-a80d-bb112e8d7a8f",
   "metadata": {
    "ExecuteTime": {
     "end_time": "2021-11-04T15:40:47.812369Z",
     "start_time": "2021-11-04T15:40:47.806566Z"
    }
   },
   "outputs": [
    {
     "data": {
      "text/plain": [
       "date_time                    0\n",
       "wind_direction               0\n",
       "sky_condition                0\n",
       "precipitation_form           0\n",
       "wind_speed                   0\n",
       "humidity                     0\n",
       "low_temp                     0\n",
       "high_temp                    0\n",
       "Precipitation_Probability    0\n",
       "dtype: int64"
      ]
     },
     "execution_count": 6,
     "metadata": {},
     "output_type": "execute_result"
    }
   ],
   "source": [
    "# 결측치 확인\n",
    "np.sum(testset.isna())"
   ]
  },
  {
   "cell_type": "code",
   "execution_count": 7,
   "id": "9ee0311c-1267-4feb-b5c5-b1520d593134",
   "metadata": {
    "ExecuteTime": {
     "end_time": "2021-11-04T15:40:47.819780Z",
     "start_time": "2021-11-04T15:40:47.814208Z"
    }
   },
   "outputs": [],
   "source": [
    "# 최종 제출을 위한 dataframe 불러오기\n",
    "submission = pd.read_csv('sample_submission.csv')"
   ]
  },
  {
   "cell_type": "markdown",
   "id": "3e6cd0b4-147b-44fe-82b0-5dfe813918a5",
   "metadata": {},
   "source": [
    "원본 dataframe 의 date_time 칼럼은 기계학습 알고리즘에 그대로 적용하기에 정보가 부족합니다. 그래서 정보를 상세하게 풀어서 추가해주었습니다. \n",
    "* week: 연도 별로 몇째 주 마다 이용자가 다를 수 있으므로 요일 정보를 추가해줍니다.\n",
    "* weekday: 요일별로 따릉이 이용자가 다를 수 있으므로 요일 정보를 추가해줍니다.\n",
    "* <b>추가 해볼 수 있는 것: 평일 / 주말 이용자가 다를 수 있으므로 평일과 주말에 대한 칼럼도 추가해주면 성능 향상에 도움이 될 듯 합니다.</b>"
   ]
  },
  {
   "cell_type": "code",
   "execution_count": 8,
   "id": "7ebad2e0-8f1a-496a-b175-f5a15d730428",
   "metadata": {
    "ExecuteTime": {
     "end_time": "2021-11-04T15:40:47.825971Z",
     "start_time": "2021-11-04T15:40:47.821343Z"
    }
   },
   "outputs": [],
   "source": [
    "def split_date(df):\n",
    "    '''\n",
    "    args\n",
    "        df: 원본 데이터프레임\n",
    "    return\n",
    "        year, month, day, week, weekday 정보를 추가한 dataframe\n",
    "    '''\n",
    "    df['year'] = pd.to_datetime(df['date_time']).dt.year\n",
    "    df['month'] = pd.to_datetime(df['date_time']).dt.month\n",
    "    df['day'] = pd.to_datetime(df['date_time']).dt.day\n",
    "    df['week'] = pd.to_datetime(df['date_time']).dt.week\n",
    "    df['weekday'] = pd.to_datetime(df['date_time']).dt.weekday\n",
    "    # df['quarter'] = pd.to_datetime(df['date_time']).dt.quarter # 데이터는 모두 동일 분기 데이터이므로 무의미\n",
    "    \n",
    "    return df.drop(columns=['date_time'])"
   ]
  },
  {
   "cell_type": "code",
   "execution_count": 9,
   "id": "d6eeb177-a153-4bc5-aaa8-ce4125ac4e83",
   "metadata": {
    "ExecuteTime": {
     "end_time": "2021-11-04T15:40:47.852405Z",
     "start_time": "2021-11-04T15:40:47.830537Z"
    }
   },
   "outputs": [],
   "source": [
    "traindf = split_date(trainset)\n",
    "testdf = split_date(testset)"
   ]
  },
  {
   "cell_type": "code",
   "execution_count": 10,
   "id": "26ae6b4d-e01e-4941-86aa-e1ac1f1e07bd",
   "metadata": {
    "ExecuteTime": {
     "end_time": "2021-11-04T15:40:47.858091Z",
     "start_time": "2021-11-04T15:40:47.854406Z"
    }
   },
   "outputs": [],
   "source": [
    "keys = traindf.drop(columns=['number_of_rentals']).keys()"
   ]
  },
  {
   "cell_type": "code",
   "execution_count": 11,
   "id": "86d702c8-0a6a-4fbe-92fa-ab5a5f0c0257",
   "metadata": {
    "ExecuteTime": {
     "end_time": "2021-11-04T15:40:47.877947Z",
     "start_time": "2021-11-04T15:40:47.859600Z"
    }
   },
   "outputs": [
    {
     "data": {
      "text/html": [
       "<div>\n",
       "<style scoped>\n",
       "    .dataframe tbody tr th:only-of-type {\n",
       "        vertical-align: middle;\n",
       "    }\n",
       "\n",
       "    .dataframe tbody tr th {\n",
       "        vertical-align: top;\n",
       "    }\n",
       "\n",
       "    .dataframe thead th {\n",
       "        text-align: right;\n",
       "    }\n",
       "</style>\n",
       "<table border=\"1\" class=\"dataframe\">\n",
       "  <thead>\n",
       "    <tr style=\"text-align: right;\">\n",
       "      <th></th>\n",
       "      <th>wind_direction</th>\n",
       "      <th>sky_condition</th>\n",
       "      <th>precipitation_form</th>\n",
       "      <th>wind_speed</th>\n",
       "      <th>humidity</th>\n",
       "      <th>low_temp</th>\n",
       "      <th>high_temp</th>\n",
       "      <th>Precipitation_Probability</th>\n",
       "      <th>number_of_rentals</th>\n",
       "      <th>year</th>\n",
       "      <th>month</th>\n",
       "      <th>day</th>\n",
       "      <th>week</th>\n",
       "      <th>weekday</th>\n",
       "    </tr>\n",
       "  </thead>\n",
       "  <tbody>\n",
       "    <tr>\n",
       "      <th>0</th>\n",
       "      <td>207.500</td>\n",
       "      <td>4.000</td>\n",
       "      <td>0.000</td>\n",
       "      <td>3.050</td>\n",
       "      <td>75.000</td>\n",
       "      <td>12.600</td>\n",
       "      <td>21.000</td>\n",
       "      <td>30.000</td>\n",
       "      <td>22994</td>\n",
       "      <td>2018</td>\n",
       "      <td>4</td>\n",
       "      <td>1</td>\n",
       "      <td>13</td>\n",
       "      <td>6</td>\n",
       "    </tr>\n",
       "    <tr>\n",
       "      <th>1</th>\n",
       "      <td>208.317</td>\n",
       "      <td>2.950</td>\n",
       "      <td>0.000</td>\n",
       "      <td>3.278</td>\n",
       "      <td>69.833</td>\n",
       "      <td>12.812</td>\n",
       "      <td>19.000</td>\n",
       "      <td>19.500</td>\n",
       "      <td>28139</td>\n",
       "      <td>2018</td>\n",
       "      <td>4</td>\n",
       "      <td>2</td>\n",
       "      <td>14</td>\n",
       "      <td>0</td>\n",
       "    </tr>\n",
       "    <tr>\n",
       "      <th>2</th>\n",
       "      <td>213.516</td>\n",
       "      <td>2.911</td>\n",
       "      <td>0.000</td>\n",
       "      <td>2.690</td>\n",
       "      <td>74.879</td>\n",
       "      <td>10.312</td>\n",
       "      <td>15.316</td>\n",
       "      <td>19.113</td>\n",
       "      <td>26817</td>\n",
       "      <td>2018</td>\n",
       "      <td>4</td>\n",
       "      <td>3</td>\n",
       "      <td>14</td>\n",
       "      <td>1</td>\n",
       "    </tr>\n",
       "    <tr>\n",
       "      <th>3</th>\n",
       "      <td>143.836</td>\n",
       "      <td>3.692</td>\n",
       "      <td>0.425</td>\n",
       "      <td>3.138</td>\n",
       "      <td>71.849</td>\n",
       "      <td>8.312</td>\n",
       "      <td>12.368</td>\n",
       "      <td>43.493</td>\n",
       "      <td>26034</td>\n",
       "      <td>2018</td>\n",
       "      <td>4</td>\n",
       "      <td>4</td>\n",
       "      <td>14</td>\n",
       "      <td>2</td>\n",
       "    </tr>\n",
       "    <tr>\n",
       "      <th>4</th>\n",
       "      <td>95.905</td>\n",
       "      <td>4.000</td>\n",
       "      <td>0.723</td>\n",
       "      <td>3.186</td>\n",
       "      <td>73.784</td>\n",
       "      <td>5.875</td>\n",
       "      <td>10.421</td>\n",
       "      <td>63.378</td>\n",
       "      <td>2833</td>\n",
       "      <td>2018</td>\n",
       "      <td>4</td>\n",
       "      <td>5</td>\n",
       "      <td>14</td>\n",
       "      <td>3</td>\n",
       "    </tr>\n",
       "  </tbody>\n",
       "</table>\n",
       "</div>"
      ],
      "text/plain": [
       "   wind_direction  sky_condition  precipitation_form  wind_speed  humidity  \\\n",
       "0         207.500          4.000               0.000       3.050    75.000   \n",
       "1         208.317          2.950               0.000       3.278    69.833   \n",
       "2         213.516          2.911               0.000       2.690    74.879   \n",
       "3         143.836          3.692               0.425       3.138    71.849   \n",
       "4          95.905          4.000               0.723       3.186    73.784   \n",
       "\n",
       "   low_temp  high_temp  Precipitation_Probability  number_of_rentals  year  \\\n",
       "0    12.600     21.000                     30.000              22994  2018   \n",
       "1    12.812     19.000                     19.500              28139  2018   \n",
       "2    10.312     15.316                     19.113              26817  2018   \n",
       "3     8.312     12.368                     43.493              26034  2018   \n",
       "4     5.875     10.421                     63.378               2833  2018   \n",
       "\n",
       "   month  day  week  weekday  \n",
       "0      4    1    13        6  \n",
       "1      4    2    14        0  \n",
       "2      4    3    14        1  \n",
       "3      4    4    14        2  \n",
       "4      4    5    14        3  "
      ]
     },
     "execution_count": 11,
     "metadata": {},
     "output_type": "execute_result"
    }
   ],
   "source": [
    "traindf.head()"
   ]
  },
  {
   "cell_type": "code",
   "execution_count": 12,
   "id": "86840c5e-4d5c-4849-88ed-5a6275d6b6d6",
   "metadata": {
    "ExecuteTime": {
     "end_time": "2021-11-04T15:40:47.895553Z",
     "start_time": "2021-11-04T15:40:47.879808Z"
    }
   },
   "outputs": [
    {
     "data": {
      "text/html": [
       "<div>\n",
       "<style scoped>\n",
       "    .dataframe tbody tr th:only-of-type {\n",
       "        vertical-align: middle;\n",
       "    }\n",
       "\n",
       "    .dataframe tbody tr th {\n",
       "        vertical-align: top;\n",
       "    }\n",
       "\n",
       "    .dataframe thead th {\n",
       "        text-align: right;\n",
       "    }\n",
       "</style>\n",
       "<table border=\"1\" class=\"dataframe\">\n",
       "  <thead>\n",
       "    <tr style=\"text-align: right;\">\n",
       "      <th></th>\n",
       "      <th>wind_direction</th>\n",
       "      <th>sky_condition</th>\n",
       "      <th>precipitation_form</th>\n",
       "      <th>wind_speed</th>\n",
       "      <th>humidity</th>\n",
       "      <th>low_temp</th>\n",
       "      <th>high_temp</th>\n",
       "      <th>Precipitation_Probability</th>\n",
       "      <th>year</th>\n",
       "      <th>month</th>\n",
       "      <th>day</th>\n",
       "      <th>week</th>\n",
       "      <th>weekday</th>\n",
       "    </tr>\n",
       "  </thead>\n",
       "  <tbody>\n",
       "    <tr>\n",
       "      <th>0</th>\n",
       "      <td>108.833</td>\n",
       "      <td>3.000</td>\n",
       "      <td>0.000</td>\n",
       "      <td>2.900</td>\n",
       "      <td>28.333</td>\n",
       "      <td>11.800</td>\n",
       "      <td>20.667</td>\n",
       "      <td>18.333</td>\n",
       "      <td>2021</td>\n",
       "      <td>4</td>\n",
       "      <td>1</td>\n",
       "      <td>13</td>\n",
       "      <td>3</td>\n",
       "    </tr>\n",
       "    <tr>\n",
       "      <th>1</th>\n",
       "      <td>116.717</td>\n",
       "      <td>3.850</td>\n",
       "      <td>0.000</td>\n",
       "      <td>2.662</td>\n",
       "      <td>46.417</td>\n",
       "      <td>12.000</td>\n",
       "      <td>19.000</td>\n",
       "      <td>28.500</td>\n",
       "      <td>2021</td>\n",
       "      <td>4</td>\n",
       "      <td>2</td>\n",
       "      <td>13</td>\n",
       "      <td>4</td>\n",
       "    </tr>\n",
       "    <tr>\n",
       "      <th>2</th>\n",
       "      <td>82.669</td>\n",
       "      <td>4.000</td>\n",
       "      <td>0.565</td>\n",
       "      <td>2.165</td>\n",
       "      <td>77.258</td>\n",
       "      <td>8.875</td>\n",
       "      <td>16.368</td>\n",
       "      <td>52.847</td>\n",
       "      <td>2021</td>\n",
       "      <td>4</td>\n",
       "      <td>3</td>\n",
       "      <td>13</td>\n",
       "      <td>5</td>\n",
       "    </tr>\n",
       "    <tr>\n",
       "      <th>3</th>\n",
       "      <td>44.123</td>\n",
       "      <td>3.466</td>\n",
       "      <td>0.466</td>\n",
       "      <td>3.747</td>\n",
       "      <td>63.288</td>\n",
       "      <td>6.250</td>\n",
       "      <td>17.368</td>\n",
       "      <td>37.671</td>\n",
       "      <td>2021</td>\n",
       "      <td>4</td>\n",
       "      <td>4</td>\n",
       "      <td>13</td>\n",
       "      <td>6</td>\n",
       "    </tr>\n",
       "    <tr>\n",
       "      <th>4</th>\n",
       "      <td>147.791</td>\n",
       "      <td>1.500</td>\n",
       "      <td>0.000</td>\n",
       "      <td>1.560</td>\n",
       "      <td>48.176</td>\n",
       "      <td>7.188</td>\n",
       "      <td>18.684</td>\n",
       "      <td>4.459</td>\n",
       "      <td>2021</td>\n",
       "      <td>4</td>\n",
       "      <td>5</td>\n",
       "      <td>14</td>\n",
       "      <td>0</td>\n",
       "    </tr>\n",
       "  </tbody>\n",
       "</table>\n",
       "</div>"
      ],
      "text/plain": [
       "   wind_direction  sky_condition  precipitation_form  wind_speed  humidity  \\\n",
       "0         108.833          3.000               0.000       2.900    28.333   \n",
       "1         116.717          3.850               0.000       2.662    46.417   \n",
       "2          82.669          4.000               0.565       2.165    77.258   \n",
       "3          44.123          3.466               0.466       3.747    63.288   \n",
       "4         147.791          1.500               0.000       1.560    48.176   \n",
       "\n",
       "   low_temp  high_temp  Precipitation_Probability  year  month  day  week  \\\n",
       "0    11.800     20.667                     18.333  2021      4    1    13   \n",
       "1    12.000     19.000                     28.500  2021      4    2    13   \n",
       "2     8.875     16.368                     52.847  2021      4    3    13   \n",
       "3     6.250     17.368                     37.671  2021      4    4    13   \n",
       "4     7.188     18.684                      4.459  2021      4    5    14   \n",
       "\n",
       "   weekday  \n",
       "0        3  \n",
       "1        4  \n",
       "2        5  \n",
       "3        6  \n",
       "4        0  "
      ]
     },
     "execution_count": 12,
     "metadata": {},
     "output_type": "execute_result"
    }
   ],
   "source": [
    "testdf.head()"
   ]
  },
  {
   "cell_type": "code",
   "execution_count": 13,
   "id": "73e534d5-94e6-49c5-b0ec-4743866dd81a",
   "metadata": {
    "ExecuteTime": {
     "end_time": "2021-11-04T15:40:47.900898Z",
     "start_time": "2021-11-04T15:40:47.897689Z"
    }
   },
   "outputs": [],
   "source": [
    "keydict = dict()\n",
    "for i, k in enumerate(keys):\n",
    "    keydict[i]=k"
   ]
  },
  {
   "cell_type": "markdown",
   "id": "40c2e4b4-552b-48a5-ae09-ef6cf7fd3b55",
   "metadata": {},
   "source": [
    "데이터 학습을 위해 입력값과 출력값을 분리해줍니다."
   ]
  },
  {
   "cell_type": "code",
   "execution_count": 14,
   "id": "05bb1f73-a148-4daa-ab1a-87dd14df7bc2",
   "metadata": {
    "ExecuteTime": {
     "end_time": "2021-11-04T15:40:47.908156Z",
     "start_time": "2021-11-04T15:40:47.902643Z"
    }
   },
   "outputs": [],
   "source": [
    "X = np.array(traindf.drop(columns=['number_of_rentals'])).astype(float)\n",
    "y = np.array(traindf['number_of_rentals']).astype(float)\n",
    "X_test = np.array(testdf).astype(float)\n",
    "\n",
    "if SCALE:\n",
    "    x_max = np.max(X, 0)\n",
    "    y_max = np.max(y, 0)\n",
    "    X /= x_max\n",
    "    y /= y_max\n",
    "    X_test /= x_max"
   ]
  },
  {
   "cell_type": "markdown",
   "id": "d1981cc7-75d3-4a12-a950-eaa9e15a95cd",
   "metadata": {},
   "source": [
    "# 5. 유틸리티"
   ]
  },
  {
   "cell_type": "code",
   "execution_count": 15,
   "id": "a8136eed-3b20-4578-b1fe-38ba37981327",
   "metadata": {
    "ExecuteTime": {
     "end_time": "2021-11-04T15:40:47.913210Z",
     "start_time": "2021-11-04T15:40:47.910220Z"
    }
   },
   "outputs": [],
   "source": [
    "def nmae(true, pred):\n",
    "    return np.mean(np.abs(true-pred)/true)"
   ]
  },
  {
   "cell_type": "markdown",
   "id": "7cc624ad-d4d8-4a67-aaa7-3b0c39efa9bb",
   "metadata": {},
   "source": [
    "성능 확인을 위해서 몬테카를로 교차검증을 사용합니다([링크](https://en.wikipedia.org/wiki/Cross-validation_(statistics)의 섹션 Repeated random sub-sampling validation 참고)."
   ]
  },
  {
   "cell_type": "code",
   "execution_count": 16,
   "id": "fa20dfaf-71aa-48f3-a4bd-75b61445d40f",
   "metadata": {
    "ExecuteTime": {
     "end_time": "2021-11-04T15:40:47.919451Z",
     "start_time": "2021-11-04T15:40:47.914974Z"
    }
   },
   "outputs": [],
   "source": [
    "def cv(model, X=X, y=y, cnt=100, test_size=.5):\n",
    "    score = list()\n",
    "    seeds = np.random.choice(np.arange(1e5), size=cnt, replace=False)\n",
    "    for seed in seeds:\n",
    "        X_train, X_valid, y_train, y_valid = train_test_split(X, y, test_size=test_size)\n",
    "        model.fit(X_train, y_train)\n",
    "        y_pred = model.predict(X_valid)\n",
    "        if SCALE:\n",
    "            y_pred *= y_max\n",
    "            y_valid *= y_max\n",
    "        score.append(nmae(y_valid, y_pred))\n",
    "    return np.mean(score)"
   ]
  },
  {
   "cell_type": "markdown",
   "id": "f8cbe94d-1b7c-40da-8480-faa52a2a6019",
   "metadata": {},
   "source": [
    "# 6. Feature selection"
   ]
  },
  {
   "cell_type": "markdown",
   "id": "fc8f8e37-afed-4e91-afa3-c2737d2c7e67",
   "metadata": {},
   "source": [
    "제거 법을 이용해서 feature selection 을 해봅니다."
   ]
  },
  {
   "cell_type": "code",
   "execution_count": 17,
   "id": "549e4b85-ddd1-4d59-aa15-32dc4b158b24",
   "metadata": {
    "ExecuteTime": {
     "end_time": "2021-11-04T15:40:47.924345Z",
     "start_time": "2021-11-04T15:40:47.921135Z"
    }
   },
   "outputs": [],
   "source": [
    "def select_features(X, cols):\n",
    "    _X = list()\n",
    "    for c in cols:\n",
    "        _X.append(np.expand_dims(X[:, c],-1))\n",
    "    return np.concatenate(_X, axis=1)"
   ]
  },
  {
   "cell_type": "code",
   "execution_count": 18,
   "id": "64ee07f6-3620-4850-8716-f418f49d61a6",
   "metadata": {
    "ExecuteTime": {
     "end_time": "2021-11-04T15:40:47.930805Z",
     "start_time": "2021-11-04T15:40:47.926168Z"
    }
   },
   "outputs": [
    {
     "data": {
      "text/plain": [
       "{0: 'wind_direction',\n",
       " 1: 'sky_condition',\n",
       " 2: 'precipitation_form',\n",
       " 3: 'wind_speed',\n",
       " 4: 'humidity',\n",
       " 5: 'low_temp',\n",
       " 6: 'high_temp',\n",
       " 7: 'Precipitation_Probability',\n",
       " 8: 'year',\n",
       " 9: 'month',\n",
       " 10: 'day',\n",
       " 11: 'week',\n",
       " 12: 'weekday'}"
      ]
     },
     "execution_count": 18,
     "metadata": {},
     "output_type": "execute_result"
    }
   ],
   "source": [
    "keydict"
   ]
  },
  {
   "cell_type": "markdown",
   "id": "efa17c3d-648d-4c76-b033-e060d625204e",
   "metadata": {},
   "source": [
    "다양한 모델 확인 결과 XGBRegressor 가 가장 좋아서 이걸 선택했습니다."
   ]
  },
  {
   "cell_type": "code",
   "execution_count": 19,
   "id": "244cc1f4-36a5-4fe4-ac40-9cfb8d803100",
   "metadata": {
    "ExecuteTime": {
     "end_time": "2021-11-04T15:40:47.962150Z",
     "start_time": "2021-11-04T15:40:47.932380Z"
    }
   },
   "outputs": [],
   "source": [
    "from xgboost import XGBRegressor as Model"
   ]
  },
  {
   "cell_type": "code",
   "execution_count": 20,
   "id": "98fa508f-9dea-4dc9-b6c8-0df7c3607921",
   "metadata": {
    "ExecuteTime": {
     "end_time": "2021-11-04T15:41:19.016625Z",
     "start_time": "2021-11-04T15:40:47.964240Z"
    },
    "tags": []
   },
   "outputs": [
    {
     "name": "stdout",
     "output_type": "stream",
     "text": [
      "wind_direction, 0.2431 (min 0.2431)\n",
      "sky_condition, 0.2525 (min 0.2431)\n",
      "precipitation_form, 0.2618 (min 0.2431)\n",
      "wind_speed, 0.2372 (min 0.2372)\n",
      "humidity, 0.2306 (min 0.2306)\n",
      "low_temp, 0.2508 (min 0.2306)\n",
      "high_temp, 0.2588 (min 0.2306)\n",
      "Precipitation_Probability, 0.2322 (min 0.2306)\n",
      "year, 0.4871 (min 0.2306)\n",
      "month, 0.2651 (min 0.2306)\n",
      "day, 0.2280 (min 0.2280)\n",
      "week, 0.2519 (min 0.2280)\n",
      "weekday, 0.2320 (min 0.2280)\n"
     ]
    }
   ],
   "source": [
    "min_loss = 1e10\n",
    "min_cols = None\n",
    "\n",
    "for i in np.arange(start=0, stop=len(keys)):\n",
    "#     model = Model(tree_method='gpu_hist')\n",
    "#     model = Model(silent = 1)\n",
    "    model = Model(eta = 0.3)\n",
    "    cols = np.arange(len(keys))\n",
    "    cols = np.delete(cols, i)\n",
    "    _X = select_features(X, cols)\n",
    "    loss = cv(model, _X, y, cnt=30)\n",
    "    if min_loss > loss:\n",
    "        min_loss = loss\n",
    "        min_cols = f\"{keydict.get(i)}\"\n",
    "    print(f\"{keydict.get(i)}, {loss:.4f} (min {min_loss:.4f})\")"
   ]
  },
  {
   "cell_type": "code",
   "execution_count": 22,
   "id": "617fe906-e3b4-4180-b66a-a200e5a7abc5",
   "metadata": {
    "ExecuteTime": {
     "end_time": "2021-11-04T15:45:50.618419Z",
     "start_time": "2021-11-04T15:41:43.303835Z"
    },
    "tags": []
   },
   "outputs": [
    {
     "name": "stdout",
     "output_type": "stream",
     "text": [
      "wind_direction, sky_condition, 0.2383 (min 0.2280)\n",
      "wind_direction, precipitation_form, 0.2520 (min 0.2280)\n",
      "wind_direction, wind_speed, 0.2375 (min 0.2280)\n",
      "wind_direction, humidity, 0.2487 (min 0.2280)\n",
      "wind_direction, low_temp, 0.2401 (min 0.2280)\n",
      "wind_direction, high_temp, 0.2382 (min 0.2280)\n",
      "wind_direction, Precipitation_Probability, 0.2601 (min 0.2280)\n",
      "wind_direction, year, 0.4688 (min 0.2280)\n",
      "wind_direction, month, 0.2437 (min 0.2280)\n",
      "wind_direction, day, 0.2341 (min 0.2280)\n",
      "wind_direction, week, 0.2530 (min 0.2280)\n",
      "wind_direction, weekday, 0.2485 (min 0.2280)\n",
      "sky_condition, precipitation_form, 0.2402 (min 0.2280)\n",
      "sky_condition, wind_speed, 0.2764 (min 0.2280)\n",
      "sky_condition, humidity, 0.2476 (min 0.2280)\n",
      "sky_condition, low_temp, 0.2300 (min 0.2280)\n",
      "sky_condition, high_temp, 0.2462 (min 0.2280)\n",
      "sky_condition, Precipitation_Probability, 0.2563 (min 0.2280)\n",
      "sky_condition, year, 0.4760 (min 0.2280)\n",
      "sky_condition, month, 0.2484 (min 0.2280)\n",
      "sky_condition, day, 0.2329 (min 0.2280)\n",
      "sky_condition, week, 0.2481 (min 0.2280)\n",
      "sky_condition, weekday, 0.2502 (min 0.2280)\n",
      "precipitation_form, wind_speed, 0.2343 (min 0.2280)\n",
      "precipitation_form, humidity, 0.2555 (min 0.2280)\n",
      "precipitation_form, low_temp, 0.2559 (min 0.2280)\n",
      "precipitation_form, high_temp, 0.2618 (min 0.2280)\n",
      "precipitation_form, Precipitation_Probability, 0.2917 (min 0.2280)\n",
      "precipitation_form, year, 0.4882 (min 0.2280)\n",
      "precipitation_form, month, 0.2617 (min 0.2280)\n",
      "precipitation_form, day, 0.2430 (min 0.2280)\n",
      "precipitation_form, week, 0.2771 (min 0.2280)\n",
      "precipitation_form, weekday, 0.2450 (min 0.2280)\n",
      "wind_speed, humidity, 0.2244 (min 0.2244)\n",
      "wind_speed, low_temp, 0.2323 (min 0.2244)\n",
      "wind_speed, high_temp, 0.2411 (min 0.2244)\n",
      "wind_speed, Precipitation_Probability, 0.2407 (min 0.2244)\n",
      "wind_speed, year, 0.6032 (min 0.2244)\n",
      "wind_speed, month, 0.2520 (min 0.2244)\n",
      "wind_speed, day, 0.2392 (min 0.2244)\n",
      "wind_speed, week, 0.2439 (min 0.2244)\n",
      "wind_speed, weekday, 0.2221 (min 0.2221)\n",
      "humidity, low_temp, 0.2383 (min 0.2221)\n",
      "humidity, high_temp, 0.2582 (min 0.2221)\n",
      "humidity, Precipitation_Probability, 0.2659 (min 0.2221)\n",
      "humidity, year, 0.4788 (min 0.2221)\n",
      "humidity, month, 0.2479 (min 0.2221)\n",
      "humidity, day, 0.2234 (min 0.2221)\n",
      "humidity, week, 0.2508 (min 0.2221)\n",
      "humidity, weekday, 0.2504 (min 0.2221)\n",
      "low_temp, high_temp, 0.2467 (min 0.2221)\n",
      "low_temp, Precipitation_Probability, 0.2356 (min 0.2221)\n",
      "low_temp, year, 0.4828 (min 0.2221)\n",
      "low_temp, month, 0.2267 (min 0.2221)\n",
      "low_temp, day, 0.2346 (min 0.2221)\n",
      "low_temp, week, 0.2508 (min 0.2221)\n",
      "low_temp, weekday, 0.2343 (min 0.2221)\n",
      "high_temp, Precipitation_Probability, 0.2582 (min 0.2221)\n",
      "high_temp, year, 0.4723 (min 0.2221)\n",
      "high_temp, month, 0.2247 (min 0.2221)\n",
      "high_temp, day, 0.2779 (min 0.2221)\n",
      "high_temp, week, 0.2614 (min 0.2221)\n",
      "high_temp, weekday, 0.2578 (min 0.2221)\n",
      "Precipitation_Probability, year, 0.5048 (min 0.2221)\n",
      "Precipitation_Probability, month, 0.2413 (min 0.2221)\n",
      "Precipitation_Probability, day, 0.2482 (min 0.2221)\n",
      "Precipitation_Probability, week, 0.2541 (min 0.2221)\n",
      "Precipitation_Probability, weekday, 0.2627 (min 0.2221)\n",
      "year, month, 0.4656 (min 0.2221)\n",
      "year, day, 0.4778 (min 0.2221)\n",
      "year, week, 0.5102 (min 0.2221)\n",
      "year, weekday, 0.4860 (min 0.2221)\n",
      "month, day, 0.2430 (min 0.2221)\n",
      "month, week, 0.2434 (min 0.2221)\n",
      "month, weekday, 0.2386 (min 0.2221)\n",
      "day, week, 0.2567 (min 0.2221)\n",
      "day, weekday, 0.2456 (min 0.2221)\n",
      "week, weekday, 0.2389 (min 0.2221)\n"
     ]
    }
   ],
   "source": [
    "for i in np.arange(start=0, stop=len(keys)-1):\n",
    "    for j in np.arange(start=i+1, stop=len(keys)):\n",
    "#         model = Model(tree_method='gpu_hist')\n",
    "        model = Model(eta = 0.3)\n",
    "        cols = np.arange(len(keys))\n",
    "        cols = np.delete(cols, [i,j])\n",
    "        _X = select_features(X, cols)\n",
    "        loss = cv(model, _X, y, cnt=30)\n",
    "        if min_loss > loss:\n",
    "            min_loss = loss\n",
    "            min_cols = f\"{keydict.get(i)}, {keydict.get(j)}\"\n",
    "        print(f\"{keydict.get(i)}, {keydict.get(j)}, {loss:.4f} (min {min_loss:.4f})\")"
   ]
  },
  {
   "cell_type": "markdown",
   "id": "1b1f5ca8-c569-4112-aee9-c19ca1d89cfb",
   "metadata": {},
   "source": [
    "0: 'wind_direction' 과  7: 'Precipitation_Probability' 가 없을 때 성능이 좋을듯 합니다. 풍향은 자전거 이용에 영향을 미치는 변수가 아닐 듯 합니다. 한편, 강수확률(Precipitation_Probability)은 관측치가 아니라 기상청 예측치라면, 예측 오류가 우리가 만드는 최종 모델의 오류를 더 커지게 할 수 있기 때문에 빼는 것이 좋겠습니다."
   ]
  },
  {
   "cell_type": "markdown",
   "id": "3cd45a69-62d2-47cf-b7b4-52065e1e7b9f",
   "metadata": {},
   "source": [
    "# 7. 모델 학습"
   ]
  },
  {
   "cell_type": "code",
   "execution_count": 24,
   "id": "5d9a128e-51a1-4aa8-92aa-a8acf3c8700b",
   "metadata": {
    "ExecuteTime": {
     "end_time": "2021-11-04T15:46:25.956170Z",
     "start_time": "2021-11-04T15:46:25.758545Z"
    }
   },
   "outputs": [],
   "source": [
    "model = Model(eta = 0.3)\n",
    "\n",
    "cols = np.arange(len(keys))\n",
    "cols = np.delete(cols, [0,7]) # 풍향, 강수확률 제거\n",
    "_X = select_features(X, cols)\n",
    "\n",
    "model.fit(_X, y)\n",
    "\n",
    "_X_test = select_features(X_test, cols)\n",
    "y_pred = model.predict(_X_test)\n",
    "if SCALE:\n",
    "    y_pred *= y_max\n",
    "y_pred = y_pred.astype(int)\n",
    "\n",
    "# plt.scatter(np.arange(len(y_pred)), y_pred, s=.5)\n",
    "# plt.show()"
   ]
  },
  {
   "cell_type": "code",
   "execution_count": 25,
   "id": "4e36cc6b-b677-4d4d-8064-720a3e4505f7",
   "metadata": {
    "ExecuteTime": {
     "end_time": "2021-11-04T15:46:26.564377Z",
     "start_time": "2021-11-04T15:46:26.561044Z"
    }
   },
   "outputs": [],
   "source": [
    "submission['number_of_rentals'] = y_pred"
   ]
  },
  {
   "cell_type": "code",
   "execution_count": 26,
   "id": "5a844a98-6d4d-48c1-ba4e-37be78f1fa53",
   "metadata": {
    "ExecuteTime": {
     "end_time": "2021-11-04T15:46:27.148728Z",
     "start_time": "2021-11-04T15:46:27.142619Z"
    }
   },
   "outputs": [],
   "source": [
    "submission.to_csv('copy_xgboost_submission.csv', index=False)"
   ]
  },
  {
   "cell_type": "markdown",
   "id": "1ccd7c20-26a8-4a1b-8b6f-87d3ff497085",
   "metadata": {},
   "source": [
    "# score = 0.51212"
   ]
  },
  {
   "cell_type": "code",
   "execution_count": null,
   "id": "d9cc03ec",
   "metadata": {},
   "outputs": [],
   "source": []
  }
 ],
 "metadata": {
  "hide_input": false,
  "kernelspec": {
   "display_name": "Python 3 (ipykernel)",
   "language": "python",
   "name": "python3"
  },
  "language_info": {
   "codemirror_mode": {
    "name": "ipython",
    "version": 3
   },
   "file_extension": ".py",
   "mimetype": "text/x-python",
   "name": "python",
   "nbconvert_exporter": "python",
   "pygments_lexer": "ipython3",
   "version": "3.8.8"
  },
  "varInspector": {
   "cols": {
    "lenName": 16,
    "lenType": 16,
    "lenVar": 40
   },
   "kernels_config": {
    "python": {
     "delete_cmd_postfix": "",
     "delete_cmd_prefix": "del ",
     "library": "var_list.py",
     "varRefreshCmd": "print(var_dic_list())"
    },
    "r": {
     "delete_cmd_postfix": ") ",
     "delete_cmd_prefix": "rm(",
     "library": "var_list.r",
     "varRefreshCmd": "cat(var_dic_list()) "
    }
   },
   "types_to_exclude": [
    "module",
    "function",
    "builtin_function_or_method",
    "instance",
    "_Feature"
   ],
   "window_display": false
  }
 },
 "nbformat": 4,
 "nbformat_minor": 5
}
